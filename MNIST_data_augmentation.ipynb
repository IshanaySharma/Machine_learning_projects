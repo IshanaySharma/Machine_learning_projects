{
  "nbformat": 4,
  "nbformat_minor": 0,
  "metadata": {
    "colab": {
      "name": "MNIST_data_augmentation.ipynb",
      "provenance": [],
      "collapsed_sections": [],
      "authorship_tag": "ABX9TyO+q2zzh1SScGQ993yrsvjt",
      "include_colab_link": true
    },
    "kernelspec": {
      "name": "python3",
      "display_name": "Python 3"
    },
    "language_info": {
      "name": "python"
    }
  },
  "cells": [
    {
      "cell_type": "markdown",
      "metadata": {
        "id": "view-in-github",
        "colab_type": "text"
      },
      "source": [
        "<a href=\"https://colab.research.google.com/github/IshanaySharma/Machine_learning_projects/blob/main/MNIST_data_augmentation.ipynb\" target=\"_parent\"><img src=\"https://colab.research.google.com/assets/colab-badge.svg\" alt=\"Open In Colab\"/></a>"
      ]
    },
    {
      "cell_type": "code",
      "execution_count": 1,
      "metadata": {
        "id": "-QpG0bAQa-TV"
      },
      "outputs": [],
      "source": [
        "import pandas as pd\n",
        "import numpy as np\n",
        "import matplotlib.pyplot as plt"
      ]
    },
    {
      "cell_type": "code",
      "source": [
        "from tensorflow.keras.datasets import mnist"
      ],
      "metadata": {
        "id": "iXocwtr8bq-6"
      },
      "execution_count": 2,
      "outputs": []
    },
    {
      "cell_type": "code",
      "source": [
        "import tensorflow as tf\n",
        "from sklearn.model_selection import train_test_split\n",
        "from sklearn.metrics import confusion_matrix,classification_report\n",
        "from tensorflow.keras.models import Sequential\n",
        "from tensorflow.keras.layers import Dense, MaxPooling2D, Conv2D, Flatten, Dropout\n",
        "from tensorflow.keras.utils import to_categorical"
      ],
      "metadata": {
        "id": "oLRSe58Tb1fL"
      },
      "execution_count": 3,
      "outputs": []
    },
    {
      "cell_type": "code",
      "source": [
        "(x_train, y_train), (x_test,y_test) = mnist.load_data()"
      ],
      "metadata": {
        "colab": {
          "base_uri": "https://localhost:8080/"
        },
        "id": "9VBmtgd1c5AC",
        "outputId": "46e6c544-bd26-4525-bce6-d2769529843a"
      },
      "execution_count": 4,
      "outputs": [
        {
          "output_type": "stream",
          "name": "stdout",
          "text": [
            "Downloading data from https://storage.googleapis.com/tensorflow/tf-keras-datasets/mnist.npz\n",
            "11493376/11490434 [==============================] - 0s 0us/step\n",
            "11501568/11490434 [==============================] - 0s 0us/step\n"
          ]
        }
      ]
    },
    {
      "cell_type": "code",
      "source": [
        "print(x_train.shape)\n",
        "print(x_test.shape)\n",
        "print(y_train.shape)\n",
        "print(y_test.shape)"
      ],
      "metadata": {
        "colab": {
          "base_uri": "https://localhost:8080/"
        },
        "id": "8l7J4k7ndUqN",
        "outputId": "9897dcc7-6fd3-4c7a-d9a5-554a87dd418e"
      },
      "execution_count": 5,
      "outputs": [
        {
          "output_type": "stream",
          "name": "stdout",
          "text": [
            "(60000, 28, 28)\n",
            "(10000, 28, 28)\n",
            "(60000,)\n",
            "(10000,)\n"
          ]
        }
      ]
    },
    {
      "cell_type": "code",
      "source": [
        "x_train = x_train[:5000,:,:]# Shortening the dataset\n",
        "x_test = x_test[:1000,:,:]\n",
        "y_train = y_train[:5000]\n",
        "y_test = y_test[:1000]\n",
        "print(x_train.shape)\n",
        "print(x_test.shape)\n",
        "print(y_train.shape)\n",
        "print(y_test.shape)"
      ],
      "metadata": {
        "colab": {
          "base_uri": "https://localhost:8080/"
        },
        "id": "9UBPqeODdXTv",
        "outputId": "de730134-2daf-43a7-da6d-1f3e0dfe56ee"
      },
      "execution_count": 6,
      "outputs": [
        {
          "output_type": "stream",
          "name": "stdout",
          "text": [
            "(5000, 28, 28)\n",
            "(1000, 28, 28)\n",
            "(5000,)\n",
            "(1000,)\n"
          ]
        }
      ]
    },
    {
      "cell_type": "code",
      "source": [
        "print(y_train[:10])\n",
        "print(y_test[:10])"
      ],
      "metadata": {
        "colab": {
          "base_uri": "https://localhost:8080/"
        },
        "id": "O8YE24f0dmtT",
        "outputId": "3a874981-4660-4980-823a-1209a1ac1139"
      },
      "execution_count": 7,
      "outputs": [
        {
          "output_type": "stream",
          "name": "stdout",
          "text": [
            "[5 0 4 1 9 2 1 3 1 4]\n",
            "[7 2 1 0 4 1 4 9 5 9]\n"
          ]
        }
      ]
    },
    {
      "cell_type": "code",
      "source": [
        "plt.figure(figsize=(10,10))\n",
        "for i in range(25):\n",
        "  plt.subplot(5,5,i+1)\n",
        "  plt.xticks([])\n",
        "  plt.yticks([])\n",
        "  plt.imshow(x_train[i],cmap=plt.cm.binary)\n",
        "  plt.xlabel(y_train[i])\n",
        "\n",
        "plt.show()"
      ],
      "metadata": {
        "colab": {
          "base_uri": "https://localhost:8080/",
          "height": 589
        },
        "id": "yEBRC-t0dz1Y",
        "outputId": "c33bb8b7-837e-448e-bdd1-64aa41fbcb1c"
      },
      "execution_count": 8,
      "outputs": [
        {
          "output_type": "display_data",
          "data": {
            "image/png": "[encoded data removed]",
            "text/plain": [
              "<Figure size 720x720 with 25 Axes>"
            ]
          },
          "metadata": {}
        }
      ]
    },
    {
      "cell_type": "code",
      "source": [
        "#Reshaping the data\n",
        "x_train = x_train.reshape(5000,28,28,1)\n",
        "x_test = x_test.reshape(1000,28,28,1)\n",
        "\n",
        "#Normalising the data\n",
        "x_train = x_train/255\n",
        "x_test = x_test/255\n",
        "\n",
        "print(x_train.shape)\n",
        "print(x_test.shape)\n",
        "print(y_train.shape)\n",
        "print(y_test.shape)"
      ],
      "metadata": {
        "colab": {
          "base_uri": "https://localhost:8080/"
        },
        "id": "oN3VhVLReHxE",
        "outputId": "49547693-90b2-4dbf-c050-8e67143be906"
      },
      "execution_count": 9,
      "outputs": [
        {
          "output_type": "stream",
          "name": "stdout",
          "text": [
            "(5000, 28, 28, 1)\n",
            "(1000, 28, 28, 1)\n",
            "(5000,)\n",
            "(1000,)\n"
          ]
        }
      ]
    },
    {
      "cell_type": "code",
      "source": [
        "#Model 1\n",
        "#Building the model with dropout layer (it drops some amount of values from the layer)\n",
        "m1 = Sequential()\n",
        "m1.add(Conv2D(64,(3,3),strides=1,activation='relu',input_shape=(28,28,1))) #Strides is the number pixels shifted to the right or left\n",
        "m1.add(MaxPooling2D(pool_size=(2,2),strides=1))\n",
        "m1.add(Dropout(0.2))\n",
        "m1.add(Conv2D(64,(3,3),strides=1,activation='relu',input_shape=(28,28,1))) \n",
        "m1.add(MaxPooling2D(pool_size=(2,2),strides=1))\n",
        "m1.add(Dropout(0.2))\n",
        "m1.add(Flatten()) #Flattening the previous layers into 1 single layer\n",
        "m1.add(Dense(128,activation='relu'))\n",
        "m1.add(Dense(10,activation='softmax')) # softmax since multiclass classification is being done\n",
        "\n",
        "m1.compile(optimizer='adam',loss='sparse_categorical_crossentropy',metrics=['accuracy'])\n"
      ],
      "metadata": {
        "id": "2PP-R7BVe1yG"
      },
      "execution_count": 10,
      "outputs": []
    },
    {
      "cell_type": "code",
      "source": [
        "h1 = m1.fit(x_train,y_train,epochs=5,validation_data=(x_test,y_test))"
      ],
      "metadata": {
        "colab": {
          "base_uri": "https://localhost:8080/"
        },
        "id": "ijGaXq_ifjUp",
        "outputId": "2d1d3242-7cbc-42cc-8709-f18a9d1b9c8f"
      },
      "execution_count": 19,
      "outputs": [
        {
          "output_type": "stream",
          "name": "stdout",
          "text": [
            "Epoch 1/5\n",
            "157/157 [==============================] - 31s 200ms/step - loss: 0.0076 - accuracy: 0.9980 - val_loss: 0.0832 - val_accuracy: 0.9750\n",
            "Epoch 2/5\n",
            "157/157 [==============================] - 31s 199ms/step - loss: 0.0169 - accuracy: 0.9940 - val_loss: 0.0992 - val_accuracy: 0.9720\n",
            "Epoch 3/5\n",
            "157/157 [==============================] - 31s 199ms/step - loss: 0.0145 - accuracy: 0.9946 - val_loss: 0.1176 - val_accuracy: 0.9640\n",
            "Epoch 4/5\n",
            "157/157 [==============================] - 31s 198ms/step - loss: 0.0224 - accuracy: 0.9932 - val_loss: 0.0737 - val_accuracy: 0.9790\n",
            "Epoch 5/5\n",
            "157/157 [==============================] - 31s 198ms/step - loss: 0.0026 - accuracy: 0.9992 - val_loss: 0.0657 - val_accuracy: 0.9800\n"
          ]
        }
      ]
    },
    {
      "cell_type": "code",
      "source": [
        "r1= pd.DataFrame(h1.history)\n",
        "r1['Epochs'] = h1.epoch\n",
        "r1.tail()"
      ],
      "metadata": {
        "colab": {
          "base_uri": "https://localhost:8080/",
          "height": 206
        },
        "id": "qmKzaYoMgeQV",
        "outputId": "bc2e52df-c755-42ce-f06b-e7a51cc4fafd"
      },
      "execution_count": 14,
      "outputs": [
        {
          "output_type": "execute_result",
          "data": {
            "text/html": [
              "\n",
              "  <div id=\"df-fa7d873d-eb94-43d2-923a-84c420f902b3\">\n",
              "    <div class=\"colab-df-container\">\n",
              "      <div>\n",
              "<style scoped>\n",
              "    .dataframe tbody tr th:only-of-type {\n",
              "        vertical-align: middle;\n",
              "    }\n",
              "\n",
              "    .dataframe tbody tr th {\n",
              "        vertical-align: top;\n",
              "    }\n",
              "\n",
              "    .dataframe thead th {\n",
              "        text-align: right;\n",
              "    }\n",
              "</style>\n",
              "<table border=\"1\" class=\"dataframe\">\n",
              "  <thead>\n",
              "    <tr style=\"text-align: right;\">\n",
              "      <th></th>\n",
              "      <th>loss</th>\n",
              "      <th>accuracy</th>\n",
              "      <th>val_loss</th>\n",
              "      <th>val_accuracy</th>\n",
              "      <th>Epochs</th>\n",
              "    </tr>\n",
              "  </thead>\n",
              "  <tbody>\n",
              "    <tr>\n",
              "      <th>0</th>\n",
              "      <td>0.389392</td>\n",
              "      <td>0.8778</td>\n",
              "      <td>0.131220</td>\n",
              "      <td>0.959</td>\n",
              "      <td>0</td>\n",
              "    </tr>\n",
              "    <tr>\n",
              "      <th>1</th>\n",
              "      <td>0.095570</td>\n",
              "      <td>0.9716</td>\n",
              "      <td>0.107586</td>\n",
              "      <td>0.964</td>\n",
              "      <td>1</td>\n",
              "    </tr>\n",
              "    <tr>\n",
              "      <th>2</th>\n",
              "      <td>0.057827</td>\n",
              "      <td>0.9804</td>\n",
              "      <td>0.086844</td>\n",
              "      <td>0.971</td>\n",
              "      <td>2</td>\n",
              "    </tr>\n",
              "    <tr>\n",
              "      <th>3</th>\n",
              "      <td>0.033609</td>\n",
              "      <td>0.9876</td>\n",
              "      <td>0.080265</td>\n",
              "      <td>0.966</td>\n",
              "      <td>3</td>\n",
              "    </tr>\n",
              "    <tr>\n",
              "      <th>4</th>\n",
              "      <td>0.021794</td>\n",
              "      <td>0.9922</td>\n",
              "      <td>0.089635</td>\n",
              "      <td>0.966</td>\n",
              "      <td>4</td>\n",
              "    </tr>\n",
              "  </tbody>\n",
              "</table>\n",
              "</div>\n",
              "      <button class=\"colab-df-convert\" onclick=\"convertToInteractive('df-fa7d873d-eb94-43d2-923a-84c420f902b3')\"\n",
              "              title=\"Convert this dataframe to an interactive table.\"\n",
              "              style=\"display:none;\">\n",
              "        \n",
              "  <svg xmlns=\"http://www.w3.org/2000/svg\" height=\"24px\"viewBox=\"0 0 24 24\"\n",
              "       width=\"24px\">\n",
              "    <path d=\"M0 0h24v24H0V0z\" fill=\"none\"/>\n",
              "    <path d=\"M18.56 5.44l.94 2.06.94-2.06 2.06-.94-2.06-.94-.94-2.06-.94 2.06-2.06.94zm-11 1L8.5 8.5l.94-2.06 2.06-.94-2.06-.94L8.5 2.5l-.94 2.06-2.06.94zm10 10l.94 2.06.94-2.06 2.06-.94-2.06-.94-.94-2.06-.94 2.06-2.06.94z\"/><path d=\"M17.41 7.96l-1.37-1.37c-.4-.4-.92-.59-1.43-.59-.52 0-1.04.2-1.43.59L10.3 9.45l-7.72 7.72c-.78.78-.78 2.05 0 2.83L4 21.41c.39.39.9.59 1.41.59.51 0 1.02-.2 1.41-.59l7.78-7.78 2.81-2.81c.8-.78.8-2.07 0-2.86zM5.41 20L4 18.59l7.72-7.72 1.47 1.35L5.41 20z\"/>\n",
              "  </svg>\n",
              "      </button>\n",
              "      \n",
              "  <style>\n",
              "    .colab-df-container {\n",
              "      display:flex;\n",
              "      flex-wrap:wrap;\n",
              "      gap: 12px;\n",
              "    }\n",
              "\n",
              "    .colab-df-convert {\n",
              "      background-color: #E8F0FE;\n",
              "      border: none;\n",
              "      border-radius: 50%;\n",
              "      cursor: pointer;\n",
              "      display: none;\n",
              "      fill: #1967D2;\n",
              "      height: 32px;\n",
              "      padding: 0 0 0 0;\n",
              "      width: 32px;\n",
              "    }\n",
              "\n",
              "    .colab-df-convert:hover {\n",
              "      background-color: #E2EBFA;\n",
              "      box-shadow: 0px 1px 2px rgba(60, 64, 67, 0.3), 0px 1px 3px 1px rgba(60, 64, 67, 0.15);\n",
              "      fill: #174EA6;\n",
              "    }\n",
              "\n",
              "    [theme=dark] .colab-df-convert {\n",
              "      background-color: #3B4455;\n",
              "      fill: #D2E3FC;\n",
              "    }\n",
              "\n",
              "    [theme=dark] .colab-df-convert:hover {\n",
              "      background-color: #434B5C;\n",
              "      box-shadow: 0px 1px 3px 1px rgba(0, 0, 0, 0.15);\n",
              "      filter: drop-shadow(0px 1px 2px rgba(0, 0, 0, 0.3));\n",
              "      fill: #FFFFFF;\n",
              "    }\n",
              "  </style>\n",
              "\n",
              "      <script>\n",
              "        const buttonEl =\n",
              "          document.querySelector('#df-fa7d873d-eb94-43d2-923a-84c420f902b3 button.colab-df-convert');\n",
              "        buttonEl.style.display =\n",
              "          google.colab.kernel.accessAllowed ? 'block' : 'none';\n",
              "\n",
              "        async function convertToInteractive(key) {\n",
              "          const element = document.querySelector('#df-fa7d873d-eb94-43d2-923a-84c420f902b3');\n",
              "          const dataTable =\n",
              "            await google.colab.kernel.invokeFunction('convertToInteractive',\n",
              "                                                     [key], {});\n",
              "          if (!dataTable) return;\n",
              "\n",
              "          const docLinkHtml = 'Like what you see? Visit the ' +\n",
              "            '<a target=\"_blank\" href=https://colab.research.google.com/notebooks/data_table.ipynb>data table notebook</a>'\n",
              "            + ' to learn more about interactive tables.';\n",
              "          element.innerHTML = '';\n",
              "          dataTable['output_type'] = 'display_data';\n",
              "          await google.colab.output.renderOutput(dataTable, element);\n",
              "          const docLink = document.createElement('div');\n",
              "          docLink.innerHTML = docLinkHtml;\n",
              "          element.appendChild(docLink);\n",
              "        }\n",
              "      </script>\n",
              "    </div>\n",
              "  </div>\n",
              "  "
            ],
            "text/plain": [
              "       loss  accuracy  val_loss  val_accuracy  Epochs\n",
              "0  0.389392    0.8778  0.131220         0.959       0\n",
              "1  0.095570    0.9716  0.107586         0.964       1\n",
              "2  0.057827    0.9804  0.086844         0.971       2\n",
              "3  0.033609    0.9876  0.080265         0.966       3\n",
              "4  0.021794    0.9922  0.089635         0.966       4"
            ]
          },
          "metadata": {},
          "execution_count": 14
        }
      ]
    },
    {
      "cell_type": "code",
      "source": [
        "plt.plot(r1['Epochs'],r1['loss'],label='Training Loss')\n",
        "plt.plot(r1['Epochs'],r1['val_loss'],label='Testing Loss')\n",
        "plt.legend()\n",
        "plt.show()"
      ],
      "metadata": {
        "colab": {
          "base_uri": "https://localhost:8080/",
          "height": 265
        },
        "id": "5RBKC14Sge1P",
        "outputId": "4e2591dc-0509-49d6-fc35-4f3e2d4194a3"
      },
      "execution_count": 15,
      "outputs": [
        {
          "output_type": "display_data",
          "data": {
            "image/png": "[encoded data removed]",
            "text/plain": [
              "<Figure size 432x288 with 1 Axes>"
            ]
          },
          "metadata": {
            "needs_background": "light"
          }
        }
      ]
    },
    {
      "cell_type": "code",
      "source": [
        "plt.plot(r1['Epochs'],r1['accuracy'],label='Training Accuracy')\n",
        "plt.plot(r1['Epochs'],r1['val_accuracy'],label='Testing Accuracy')\n",
        "plt.legend()\n",
        "plt.show()"
      ],
      "metadata": {
        "colab": {
          "base_uri": "https://localhost:8080/",
          "height": 265
        },
        "id": "wpGTiMVgghB7",
        "outputId": "df5afdad-83dc-44d3-df3b-64779a773412"
      },
      "execution_count": 16,
      "outputs": [
        {
          "output_type": "display_data",
          "data": {
            "image/png": "[encoded data removed]",
            "text/plain": [
              "<Figure size 432x288 with 1 Axes>"
            ]
          },
          "metadata": {
            "needs_background": "light"
          }
        }
      ]
    },
    {
      "cell_type": "code",
      "source": [
        "y_pred = m1.predict(x_test)\n",
        "print(y_pred)"
      ],
      "metadata": {
        "colab": {
          "base_uri": "https://localhost:8080/"
        },
        "id": "ewBjBCb2gjQm",
        "outputId": "e169e321-fc33-475c-fcb8-a0e6e77df042"
      },
      "execution_count": 17,
      "outputs": [
        {
          "output_type": "stream",
          "name": "stdout",
          "text": [
            "[[8.8993666e-08 1.5770130e-11 6.8942501e-07 ... 9.9998331e-01\n",
            "  2.1564356e-10 2.0651567e-07]\n",
            " [6.6526539e-08 1.8192583e-04 9.9979430e-01 ... 4.6512060e-08\n",
            "  2.0543467e-07 1.6656449e-11]\n",
            " [6.5944718e-08 9.9996519e-01 2.3975666e-05 ... 8.4182821e-06\n",
            "  3.6003135e-07 4.3363404e-08]\n",
            " ...\n",
            " [9.9999952e-01 4.5538460e-14 3.6655510e-07 ... 5.5308713e-12\n",
            "  1.9272992e-08 1.3639247e-07]\n",
            " [9.0864216e-10 2.1858853e-09 5.7785167e-07 ... 2.0647994e-09\n",
            "  9.9999917e-01 2.8802143e-07]\n",
            " [4.1213279e-06 4.1155244e-09 4.3812118e-09 ... 1.3045689e-02\n",
            "  6.4707497e-06 9.8631269e-01]]\n"
          ]
        }
      ]
    },
    {
      "cell_type": "code",
      "source": [
        "y_pred1 = [np.argmax(i) for i in y_pred]\n",
        "print(y_pred1)"
      ],
      "metadata": {
        "colab": {
          "base_uri": "https://localhost:8080/"
        },
        "id": "cmg1gY4kgl6W",
        "outputId": "12824a60-3d8f-497c-9929-d0d8afc28e63"
      },
      "execution_count": 18,
      "outputs": [
        {
          "output_type": "stream",
          "name": "stdout",
          "text": [
            "[7, 2, 1, 0, 4, 1, 4, 9, 6, 9, 0, 6, 9, 0, 1, 5, 9, 7, 3, 4, 9, 6, 6, 5, 4, 0, 7, 4, 0, 1, 3, 1, 3, 4, 7, 2, 7, 1, 2, 1, 1, 7, 4, 2, 3, 5, 1, 2, 4, 4, 6, 3, 5, 5, 6, 0, 4, 1, 9, 5, 7, 8, 5, 3, 7, 4, 6, 4, 3, 0, 7, 0, 2, 9, 1, 7, 3, 2, 9, 7, 7, 6, 2, 7, 8, 4, 7, 3, 6, 1, 3, 6, 9, 3, 1, 4, 1, 7, 6, 9, 6, 0, 5, 4, 9, 9, 2, 1, 9, 4, 8, 7, 3, 9, 7, 9, 4, 4, 9, 2, 5, 4, 7, 6, 7, 9, 0, 5, 8, 5, 6, 6, 5, 7, 8, 1, 0, 1, 6, 4, 6, 7, 3, 1, 7, 1, 8, 2, 0, 2, 9, 9, 5, 5, 1, 5, 6, 0, 3, 4, 4, 6, 5, 4, 6, 5, 4, 5, 1, 4, 4, 7, 2, 3, 2, 7, 1, 8, 1, 8, 1, 8, 5, 0, 2, 9, 2, 5, 0, 1, 1, 1, 0, 9, 0, 3, 1, 6, 4, 2, 3, 6, 1, 1, 1, 3, 9, 5, 2, 9, 4, 5, 9, 3, 9, 0, 3, 6, 5, 5, 7, 2, 2, 7, 1, 2, 8, 4, 1, 7, 3, 3, 8, 8, 7, 9, 2, 2, 4, 1, 5, 9, 8, 7, 2, 3, 0, 6, 4, 2, 4, 1, 9, 5, 7, 7, 2, 8, 2, 6, 8, 5, 7, 7, 9, 1, 8, 1, 8, 0, 3, 0, 1, 9, 9, 4, 1, 8, 2, 1, 2, 9, 7, 5, 9, 2, 6, 4, 1, 5, 8, 2, 9, 2, 0, 4, 0, 0, 2, 8, 4, 7, 1, 2, 4, 0, 2, 7, 4, 3, 3, 0, 0, 3, 1, 9, 6, 5, 2, 5, 8, 7, 9, 3, 0, 4, 2, 0, 7, 1, 1, 2, 1, 8, 3, 3, 9, 7, 8, 6, 5, 6, 1, 3, 8, 1, 0, 5, 1, 3, 1, 5, 5, 6, 1, 8, 5, 1, 7, 9, 4, 6, 2, 2, 5, 0, 6, 5, 6, 3, 7, 2, 0, 8, 8, 5, 4, 1, 1, 4, 0, 3, 3, 7, 6, 1, 6, 2, 1, 9, 2, 8, 6, 1, 9, 5, 2, 5, 4, 4, 2, 8, 3, 8, 2, 4, 9, 0, 3, 1, 7, 7, 5, 7, 9, 7, 1, 9, 2, 1, 4, 2, 9, 2, 0, 4, 9, 1, 4, 8, 1, 8, 4, 5, 9, 8, 8, 3, 7, 6, 0, 0, 3, 0, 2, 0, 6, 4, 9, 3, 3, 3, 2, 3, 9, 1, 2, 6, 8, 0, 5, 6, 6, 6, 3, 8, 8, 2, 7, 5, 8, 9, 6, 1, 8, 4, 1, 2, 5, 9, 1, 9, 7, 5, 4, 0, 8, 9, 9, 1, 0, 5, 2, 3, 7, 8, 9, 8, 0, 6, 3, 9, 5, 2, 1, 3, 1, 3, 6, 5, 7, 8, 2, 2, 6, 3, 2, 6, 5, 4, 8, 9, 7, 1, 3, 0, 3, 8, 3, 1, 9, 3, 4, 4, 6, 4, 2, 1, 8, 2, 5, 4, 8, 7, 4, 0, 0, 2, 3, 2, 7, 7, 0, 8, 7, 4, 4, 7, 9, 6, 9, 0, 9, 8, 0, 4, 6, 0, 6, 3, 5, 9, 8, 3, 3, 9, 3, 3, 3, 7, 8, 0, 2, 2, 1, 7, 0, 6, 5, 4, 3, 8, 0, 9, 6, 3, 8, 0, 9, 9, 6, 8, 6, 8, 5, 7, 8, 6, 0, 2, 4, 0, 2, 2, 3, 1, 9, 7, 5, 1, 0, 8, 4, 6, 2, 6, 7, 9, 3, 2, 9, 8, 2, 2, 9, 2, 7, 3, 5, 9, 1, 8, 0, 2, 0, 5, 2, 1, 3, 7, 6, 7, 1, 2, 5, 8, 0, 3, 7, 7, 4, 0, 9, 1, 8, 6, 7, 7, 4, 3, 4, 9, 1, 9, 5, 1, 7, 3, 9, 7, 6, 9, 1, 3, 3, 8, 3, 3, 6, 9, 2, 8, 5, 8, 5, 1, 1, 4, 4, 3, 1, 0, 7, 7, 0, 7, 9, 4, 4, 8, 5, 5, 4, 0, 8, 2, 1, 6, 8, 4, 8, 0, 4, 0, 6, 1, 5, 3, 2, 6, 7, 2, 6, 9, 3, 1, 4, 6, 2, 5, 9, 2, 0, 6, 2, 1, 7, 3, 4, 1, 0, 5, 4, 3, 1, 1, 7, 4, 9, 9, 9, 8, 4, 0, 2, 4, 5, 1, 1, 6, 4, 7, 1, 9, 4, 2, 4, 1, 5, 5, 3, 8, 3, 1, 4, 5, 6, 8, 9, 4, 1, 5, 3, 8, 0, 3, 2, 8, 1, 2, 8, 3, 4, 4, 0, 8, 8, 3, 3, 1, 2, 3, 5, 8, 6, 3, 2, 6, 1, 3, 6, 0, 7, 2, 1, 7, 1, 4, 2, 4, 2, 1, 7, 9, 6, 1, 1, 2, 4, 3, 1, 7, 7, 4, 7, 0, 7, 3, 1, 3, 1, 0, 7, 7, 0, 3, 5, 5, 2, 7, 6, 6, 9, 2, 8, 3, 8, 2, 2, 5, 6, 0, 8, 2, 9, 2, 8, 8, 8, 8, 7, 4, 9, 5, 0, 6, 6, 3, 2, 1, 3, 2, 2, 9, 3, 0, 0, 5, 7, 8, 1, 4, 4, 6, 0, 2, 9, 1, 4, 7, 4, 7, 3, 9, 8, 8, 4, 7, 1, 2, 1, 2, 2, 3, 2, 3, 2, 3, 9, 1, 7, 4, 0, 3, 5, 5, 8, 6, 5, 2, 6, 7, 6, 6, 3, 2, 7, 8, 1, 1, 7, 5, 6, 4, 9, 5, 1, 3, 0, 4, 7, 8, 9, 1, 1, 0, 9, 1, 4, 4, 5, 4, 0, 6, 2, 2, 3, 1, 5, 1, 2, 0, 3, 8, 1, 2, 6, 7, 1, 6, 2, 3, 9, 0, 1, 2, 2, 0, 8, 9]\n"
          ]
        }
      ]
    },
    {
      "cell_type": "code",
      "source": [
        "print(confusion_matrix(y_test,y_pred1))\n",
        "print(classification_report(y_test,y_pred1))"
      ],
      "metadata": {
        "colab": {
          "base_uri": "https://localhost:8080/"
        },
        "id": "gRylxoSegopX",
        "outputId": "5bf2479a-8c3e-4026-b847-2335eead6f81"
      },
      "execution_count": 20,
      "outputs": [
        {
          "output_type": "stream",
          "name": "stdout",
          "text": [
            "[[ 84   0   0   0   0   0   1   0   0   0]\n",
            " [  0 126   0   0   0   0   0   0   0   0]\n",
            " [  0   0 114   0   0   0   0   2   0   0]\n",
            " [  1   0   0 104   0   2   0   0   0   0]\n",
            " [  0   0   0   0 103   0   1   0   2   4]\n",
            " [  0   0   0   0   0  81   1   0   4   1]\n",
            " [  2   0   0   0   0   0  85   0   0   0]\n",
            " [  0   0   1   1   0   1   0  95   0   1]\n",
            " [  0   0   2   1   0   0   0   2  84   0]\n",
            " [  0   0   0   0   0   1   0   0   2  91]]\n",
            "              precision    recall  f1-score   support\n",
            "\n",
            "           0       0.97      0.99      0.98        85\n",
            "           1       1.00      1.00      1.00       126\n",
            "           2       0.97      0.98      0.98       116\n",
            "           3       0.98      0.97      0.98       107\n",
            "           4       1.00      0.94      0.97       110\n",
            "           5       0.95      0.93      0.94        87\n",
            "           6       0.97      0.98      0.97        87\n",
            "           7       0.96      0.96      0.96        99\n",
            "           8       0.91      0.94      0.93        89\n",
            "           9       0.94      0.97      0.95        94\n",
            "\n",
            "    accuracy                           0.97      1000\n",
            "   macro avg       0.97      0.97      0.97      1000\n",
            "weighted avg       0.97      0.97      0.97      1000\n",
            "\n"
          ]
        }
      ]
    },
    {
      "cell_type": "code",
      "source": [
        "# Model 2 - Data Augmentation, callbacks and Multi-column labels\n",
        "# If model is using Label encoded categorical variables(multiple columns as labels) in y_train and y_test , then loss function used is categorical_crossentropy\n",
        "# If model is using Non Label encoded categorical variables(single column as labels) in y_train and y_test , then loss function used is sparse_categorical_crossentropy\n",
        "y_train1 = to_categorical(y_train)\n",
        "y_test1 = to_categorical(y_test)"
      ],
      "metadata": {
        "id": "KMKKjnPFg2zM"
      },
      "execution_count": 21,
      "outputs": []
    },
    {
      "cell_type": "code",
      "source": [
        "print(y_train1[:5])\n",
        "# previous y_train ->[5 0 4 1 9]\n",
        "# new y_train\n",
        "# [0 0 0 0 0 1 0 0 0 0]\n",
        "# [1 0 0 0 0 0 0 0 0 0]\n",
        "# [0 0 0 0 1 0 0 0 0 0]\n",
        "# [0 1 0 0 0 0 0 0 0 0]\n",
        "# [0 0 0 0 0 0 0 0 0 1]"
      ],
      "metadata": {
        "colab": {
          "base_uri": "https://localhost:8080/"
        },
        "id": "HPrEPP3UhJtl",
        "outputId": "e8effe2e-ecc7-49c5-daf9-62bdc102405b"
      },
      "execution_count": 22,
      "outputs": [
        {
          "output_type": "stream",
          "name": "stdout",
          "text": [
            "[[0. 0. 0. 0. 0. 1. 0. 0. 0. 0.]\n",
            " [1. 0. 0. 0. 0. 0. 0. 0. 0. 0.]\n",
            " [0. 0. 0. 0. 1. 0. 0. 0. 0. 0.]\n",
            " [0. 1. 0. 0. 0. 0. 0. 0. 0. 0.]\n",
            " [0. 0. 0. 0. 0. 0. 0. 0. 0. 1.]]\n"
          ]
        }
      ]
    },
    {
      "cell_type": "code",
      "source": [
        "print(y_test1[:5])"
      ],
      "metadata": {
        "colab": {
          "base_uri": "https://localhost:8080/"
        },
        "id": "OXy5gZ_UjWQA",
        "outputId": "053bdcdb-6f1d-44b6-a85d-592c3ee0233a"
      },
      "execution_count": 23,
      "outputs": [
        {
          "output_type": "stream",
          "name": "stdout",
          "text": [
            "[[0. 0. 0. 0. 0. 0. 0. 1. 0. 0.]\n",
            " [0. 0. 1. 0. 0. 0. 0. 0. 0. 0.]\n",
            " [0. 1. 0. 0. 0. 0. 0. 0. 0. 0.]\n",
            " [1. 0. 0. 0. 0. 0. 0. 0. 0. 0.]\n",
            " [0. 0. 0. 0. 1. 0. 0. 0. 0. 0.]]\n"
          ]
        }
      ]
    },
    {
      "cell_type": "code",
      "source": [
        "from tensorflow.keras.callbacks import EarlyStopping\n",
        "#EarlyStopping Callback prevents model in proceeding with further iterations of epochs if the val_loss is no longer reducing"
      ],
      "metadata": {
        "id": "Wv_D453ZjbXk"
      },
      "execution_count": 34,
      "outputs": []
    },
    {
      "cell_type": "code",
      "source": [
        "callbacks = [EarlyStopping(monitor='val_loss',patience=5)] # For 5 epochs if val_loss is not decreasing the model will no longer continue"
      ],
      "metadata": {
        "id": "CKyaDWKqj2_X"
      },
      "execution_count": 25,
      "outputs": []
    },
    {
      "cell_type": "code",
      "source": [
        "from tensorflow.keras.preprocessing.image import ImageDataGenerator"
      ],
      "metadata": {
        "id": "7YwJ7nmAkTdV"
      },
      "execution_count": 26,
      "outputs": []
    },
    {
      "cell_type": "code",
      "source": [
        "train_generator = ImageDataGenerator(rescale=1/255,zoom_range=0.3, horizontal_flip=True,\n",
        "                                     rotation_range=45, vertical_flip=True)\n",
        "test_generator = ImageDataGenerator(rescale=True)"
      ],
      "metadata": {
        "id": "NPWo97_nke3_"
      },
      "execution_count": 27,
      "outputs": []
    },
    {
      "cell_type": "code",
      "source": [
        "train_data = train_generator.flow(x_train,y_train,batch_size=64,shuffle=False)\n",
        "test_data = train_generator.flow(x_test,y_test,batch_size=64,shuffle=False)"
      ],
      "metadata": {
        "id": "OlAYI10IlU8x"
      },
      "execution_count": 28,
      "outputs": []
    },
    {
      "cell_type": "code",
      "source": [
        "m2 = Sequential()\n",
        "m2.add(Conv2D(64,(3,3),strides=1,activation='relu',input_shape=(28,28,1),padding='same')) #Strides is the number pixels shifted to the right or left\n",
        "m2.add(MaxPooling2D(pool_size=(2,2),strides=1))\n",
        "m2.add(Dropout(0.2))\n",
        "m2.add(Conv2D(64,(3,3),strides=1,activation='relu',input_shape=(28,28,1),padding='same')) \n",
        "m2.add(MaxPooling2D(pool_size=(2,2),strides=1))\n",
        "m2.add(Dropout(0.2))\n",
        "m2.add(Flatten()) #Flattening the previous layers into 1 single layer\n",
        "m2.add(Dense(128,activation='relu'))\n",
        "m2.add(Dense(10,activation='softmax')) # softmax since multiclass classification is being done\n",
        "\n",
        "m2.compile(optimizer='adam',loss='categorical_crossentropy',metrics=['accuracy'])"
      ],
      "metadata": {
        "id": "rXLFZZMalwLT"
      },
      "execution_count": 29,
      "outputs": []
    },
    {
      "cell_type": "code",
      "source": [
        "h2 = m2.fit_generator(train_data,validation_data=test_data,epochs=5,shuffle=False,callbacks=callbacks)"
      ],
      "metadata": {
        "id": "EpLugVuHEG6S"
      },
      "execution_count": null,
      "outputs": []
    },
    {
      "cell_type": "code",
      "source": [
        "r2= pd.DataFrame(h2.history)\n",
        "r2['Epochs'] = h2.epoch\n",
        "r2.tail()"
      ],
      "metadata": {
        "id": "f4Mq_cMjDaVg"
      },
      "execution_count": null,
      "outputs": []
    },
    {
      "cell_type": "code",
      "source": [
        "plt.plot(r2['Epochs'],r2['loss'],label='Training Loss')\n",
        "plt.plot(r2['Epochs'],r2['val_loss'],label='Testing Loss')\n",
        "plt.legend()\n",
        "plt.show()"
      ],
      "metadata": {
        "id": "8PSjSLzgDr-z"
      },
      "execution_count": null,
      "outputs": []
    },
    {
      "cell_type": "code",
      "source": [
        "plt.plot(r2['Epochs'],r2['accuracy'],label='Training Accuracy')\n",
        "plt.plot(r2['Epochs'],r2['val_accuracy'],label='Testing Accuracy')\n",
        "plt.legend()\n",
        "plt.show()"
      ],
      "metadata": {
        "id": "PF2TQE41DxWY"
      },
      "execution_count": null,
      "outputs": []
    },
    {
      "cell_type": "code",
      "source": [
        "y_pred = m2.predict(x_test)\n",
        "print(y_pred)"
      ],
      "metadata": {
        "id": "A-i6ckVBD2_C"
      },
      "execution_count": null,
      "outputs": []
    },
    {
      "cell_type": "code",
      "source": [
        "y_pred1 = [np.argmax(i) for i in y_pred]\n",
        "print(y_pred1)"
      ],
      "metadata": {
        "id": "8jvdB5uVD6gm"
      },
      "execution_count": null,
      "outputs": []
    },
    {
      "cell_type": "code",
      "source": [
        "print(confusion_matrix(y_test,y_pred1))\n",
        "print(classification_report(y_test,y_pred1))"
      ],
      "metadata": {
        "id": "nDIlcPuKD9VC"
      },
      "execution_count": null,
      "outputs": []
    }
  ]
}