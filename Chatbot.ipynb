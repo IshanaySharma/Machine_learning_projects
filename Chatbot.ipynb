{
  "nbformat": 4,
  "nbformat_minor": 0,
  "metadata": {
    "colab": {
      "name": "Chatbot.ipynb",
      "provenance": [],
      "collapsed_sections": [],
      "authorship_tag": "ABX9TyPPftDVhXzr9dONtrmKoTJ2",
      "include_colab_link": true
    },
    "kernelspec": {
      "name": "python3",
      "display_name": "Python 3"
    },
    "language_info": {
      "name": "python"
    }
  },
  "cells": [
    {
      "cell_type": "markdown",
      "metadata": {
        "id": "view-in-github",
        "colab_type": "text"
      },
      "source": [
        "<a href=\"https://colab.research.google.com/github/IshanaySharma/Machine_learning_projects/blob/main/Chatbot.ipynb\" target=\"_parent\"><img src=\"https://colab.research.google.com/assets/colab-badge.svg\" alt=\"Open In Colab\"/></a>"
      ]
    },
    {
      "cell_type": "code",
      "execution_count": null,
      "metadata": {
        "id": "1AuUYgjMPXLK"
      },
      "outputs": [],
      "source": [
        "import nltk\n",
        "import numpy as np "
      ]
    },
    {
      "cell_type": "code",
      "source": [
        "#Tokenization\n",
        "nltk.download('punkt') #downloading model to tokenize message\n",
        "from nltk.tokenize import word_tokenize\n",
        "#Stop words removal\n",
        "nltk.download('stopwords') #downloading stopwords\n",
        "from nltk.corpus import stopwords\n",
        "#Lemmatization i.e. converting words into base form for eg. moving-> move\n",
        "nltk.download('wordnet') #downloading all lemmas of english language\n",
        "from nltk.stem import WordNetLemmatizer"
      ],
      "metadata": {
        "colab": {
          "base_uri": "https://localhost:8080/"
        },
        "id": "B1xDbIXGQagz",
        "outputId": "f9bdc89b-3365-4fbc-f633-d1d5d352371d"
      },
      "execution_count": null,
      "outputs": [
        {
          "output_type": "stream",
          "name": "stdout",
          "text": [
            "[nltk_data] Downloading package punkt to /root/nltk_data...\n",
            "[nltk_data]   Unzipping tokenizers/punkt.zip.\n",
            "[nltk_data] Downloading package stopwords to /root/nltk_data...\n",
            "[nltk_data]   Unzipping corpora/stopwords.zip.\n",
            "[nltk_data] Downloading package wordnet to /root/nltk_data...\n",
            "[nltk_data]   Unzipping corpora/wordnet.zip.\n"
          ]
        }
      ]
    },
    {
      "cell_type": "code",
      "source": [
        "#Vectorization\n",
        "def clean_corpus(corpus):\n",
        "    # lowering every word in text\n",
        "    corpus = [ doc.lower() for doc in corpus]\n",
        "    cleaned_corpus = []\n",
        "    stop_words = stopwords.words('english')\n",
        "    wordnet_lemmatizer = WordNetLemmatizer()\n",
        "    # iterating over every text\n",
        "    for doc in corpus:\n",
        "        # tokenizing text\n",
        "        tokens = word_tokenize(doc)\n",
        "        cleaned_sentence = []\n",
        "        for token in tokens:\n",
        "            # removing stopwords, and punctuation\n",
        "            if token not in stop_words and token.isalpha():\n",
        "                # applying lemmatization\n",
        "                cleaned_sentence.append(wordnet_lemmatizer.lemmatize(token))\n",
        "                cleaned_corpus.append(' '.join(cleaned_sentence))\n",
        "    return cleaned_corpus"
      ],
      "metadata": {
        "id": "hICbxK8KRxZA"
      },
      "execution_count": null,
      "outputs": []
    },
    {
      "cell_type": "code",
      "source": [
        "import json\n",
        "with open('/content/intents.json') as file:\n",
        "  intents = json.load(file)"
      ],
      "metadata": {
        "id": "I-Vn8Q1vUv65"
      },
      "execution_count": null,
      "outputs": []
    },
    {
      "cell_type": "code",
      "source": [
        "corpus = []\n",
        "tags = []\n",
        "for intent in intents['intents']:\n",
        "    # taking all patterns in intents to train a neural network\n",
        "    for pattern in intent['patterns']:\n",
        "        corpus.append(pattern)\n",
        "        tags.append(intent['tag'])\n",
        "\n",
        "from sklearn.feature_extraction.text import TfidfVectorizer\n",
        "vectorizer = TfidfVectorizer()\n",
        "X = vectorizer.fit_transform(corpus)\n"
      ],
      "metadata": {
        "id": "bB8Uo6rGXKpL"
      },
      "execution_count": null,
      "outputs": []
    },
    {
      "cell_type": "code",
      "source": [
        "from sklearn.preprocessing import OneHotEncoder\n",
        "encoder = OneHotEncoder()\n",
        "y = encoder.fit_transform(np.array(tags).reshape(-1,1))"
      ],
      "metadata": {
        "id": "jVq6Svz2ODDP"
      },
      "execution_count": null,
      "outputs": []
    },
    {
      "cell_type": "code",
      "source": [
        "import tensorflow\n",
        "from tensorflow.keras import Sequential\n",
        "from tensorflow.keras.layers import Dense, Dropout\n",
        "model = Sequential([Dense(128, input_shape=(X.shape[1],), activation='relu'), Dropout(0.2), Dense(64, activation='relu'), Dropout(0.2), Dense(y.shape[1], activation='softmax')])\n",
        "model.compile(loss='categorical_crossentropy', optimizer='adam',\n",
        "metrics=['accuracy'])\n",
        "history = model.fit(X.toarray(), y.toarray(), epochs=20, batch_size=1)"
      ],
      "metadata": {
        "colab": {
          "base_uri": "https://localhost:8080/"
        },
        "id": "Qir7oeudTs2e",
        "outputId": "246b2203-494b-4bc3-f508-bfdb8d051e0e"
      },
      "execution_count": null,
      "outputs": [
        {
          "output_type": "stream",
          "name": "stdout",
          "text": [
            "Epoch 1/20\n",
            "88/88 [==============================] - 1s 2ms/step - loss: 2.8823 - accuracy: 0.0795\n",
            "Epoch 2/20\n",
            "88/88 [==============================] - 0s 2ms/step - loss: 2.7417 - accuracy: 0.1818\n",
            "Epoch 3/20\n",
            "88/88 [==============================] - 0s 2ms/step - loss: 2.5539 - accuracy: 0.2273\n",
            "Epoch 4/20\n",
            "88/88 [==============================] - 0s 2ms/step - loss: 2.2697 - accuracy: 0.3295\n",
            "Epoch 5/20\n",
            "88/88 [==============================] - 0s 2ms/step - loss: 1.8941 - accuracy: 0.6023\n",
            "Epoch 6/20\n",
            "88/88 [==============================] - 0s 2ms/step - loss: 1.5089 - accuracy: 0.6818\n",
            "Epoch 7/20\n",
            "88/88 [==============================] - 0s 2ms/step - loss: 1.1198 - accuracy: 0.8068\n",
            "Epoch 8/20\n",
            "88/88 [==============================] - 0s 2ms/step - loss: 0.7798 - accuracy: 0.9091\n",
            "Epoch 9/20\n",
            "88/88 [==============================] - 0s 2ms/step - loss: 0.5671 - accuracy: 0.9091\n",
            "Epoch 10/20\n",
            "88/88 [==============================] - 0s 3ms/step - loss: 0.4264 - accuracy: 0.9659\n",
            "Epoch 11/20\n",
            "88/88 [==============================] - 0s 2ms/step - loss: 0.2913 - accuracy: 0.9545\n",
            "Epoch 12/20\n",
            "88/88 [==============================] - 0s 2ms/step - loss: 0.2148 - accuracy: 0.9659\n",
            "Epoch 13/20\n",
            "88/88 [==============================] - 0s 2ms/step - loss: 0.1998 - accuracy: 0.9659\n",
            "Epoch 14/20\n",
            "88/88 [==============================] - 0s 2ms/step - loss: 0.1572 - accuracy: 0.9545\n",
            "Epoch 15/20\n",
            "88/88 [==============================] - 0s 2ms/step - loss: 0.1421 - accuracy: 0.9773\n",
            "Epoch 16/20\n",
            "88/88 [==============================] - 0s 2ms/step - loss: 0.1098 - accuracy: 0.9886\n",
            "Epoch 17/20\n",
            "88/88 [==============================] - 0s 2ms/step - loss: 0.1001 - accuracy: 0.9773\n",
            "Epoch 18/20\n",
            "88/88 [==============================] - 0s 2ms/step - loss: 0.1030 - accuracy: 0.9773\n",
            "Epoch 19/20\n",
            "88/88 [==============================] - 0s 2ms/step - loss: 0.0868 - accuracy: 0.9773\n",
            "Epoch 20/20\n",
            "88/88 [==============================] - 0s 2ms/step - loss: 0.0975 - accuracy: 0.9886\n"
          ]
        }
      ]
    },
    {
      "cell_type": "code",
      "source": [
        "# if prediction for every tag is low, then we want to classify that message as noanswer\n",
        "INTENT_NOT_FOUND_THRESHOLD = 0.40\n",
        "def predict_intent_tag(message):\n",
        "    message = clean_corpus([message])\n",
        "    X_test = vectorizer.transform(message)\n",
        "    y = model.predict(X_test.toarray())\n",
        "    # if probability of all intent is low, classify it as noanswer\n",
        "    if y.max() < INTENT_NOT_FOUND_THRESHOLD:\n",
        "        return 'noanswer'\n",
        "    prediction = np.zeros_like(y[0])\n",
        "    prediction[y.argmax()] = 1\n",
        "    tag = encoder.inverse_transform([prediction])[0][0]\n",
        "    return tag\n",
        "print(predict_intent_tag('How you could help me?'))\n",
        "print(predict_intent_tag('swiggy chat bot'))\n",
        "print(predict_intent_tag('Where is my order'))"
      ],
      "metadata": {
        "colab": {
          "base_uri": "https://localhost:8080/",
          "height": 356
        },
        "id": "5dV_XRZvT7cR",
        "outputId": "87206de5-453f-40be-dc39-bc08a35cd288"
      },
      "execution_count": null,
      "outputs": [
        {
          "output_type": "error",
          "ename": "IndexError",
          "evalue": "ignored",
          "traceback": [
            "\u001b[0;31m---------------------------------------------------------------------------\u001b[0m",
            "\u001b[0;31mIndexError\u001b[0m                                Traceback (most recent call last)",
            "\u001b[0;32m<ipython-input-20-fdf1038141fa>\u001b[0m in \u001b[0;36m<module>\u001b[0;34m()\u001b[0m\n\u001b[1;32m     12\u001b[0m     \u001b[0mtag\u001b[0m \u001b[0;34m=\u001b[0m \u001b[0mencoder\u001b[0m\u001b[0;34m.\u001b[0m\u001b[0minverse_transform\u001b[0m\u001b[0;34m(\u001b[0m\u001b[0;34m[\u001b[0m\u001b[0mprediction\u001b[0m\u001b[0;34m]\u001b[0m\u001b[0;34m)\u001b[0m\u001b[0;34m[\u001b[0m\u001b[0;36m0\u001b[0m\u001b[0;34m]\u001b[0m\u001b[0;34m[\u001b[0m\u001b[0;36m0\u001b[0m\u001b[0;34m]\u001b[0m\u001b[0;34m\u001b[0m\u001b[0;34m\u001b[0m\u001b[0m\n\u001b[1;32m     13\u001b[0m     \u001b[0;32mreturn\u001b[0m \u001b[0mtag\u001b[0m\u001b[0;34m\u001b[0m\u001b[0;34m\u001b[0m\u001b[0m\n\u001b[0;32m---> 14\u001b[0;31m \u001b[0mprint\u001b[0m\u001b[0;34m(\u001b[0m\u001b[0mpredict_intent_tag\u001b[0m\u001b[0;34m(\u001b[0m\u001b[0;34m'How you could help me?'\u001b[0m\u001b[0;34m)\u001b[0m\u001b[0;34m)\u001b[0m\u001b[0;34m\u001b[0m\u001b[0;34m\u001b[0m\u001b[0m\n\u001b[0m\u001b[1;32m     15\u001b[0m \u001b[0mprint\u001b[0m\u001b[0;34m(\u001b[0m\u001b[0mpredict_intent_tag\u001b[0m\u001b[0;34m(\u001b[0m\u001b[0;34m'swiggy chat bot'\u001b[0m\u001b[0;34m)\u001b[0m\u001b[0;34m)\u001b[0m\u001b[0;34m\u001b[0m\u001b[0;34m\u001b[0m\u001b[0m\n\u001b[1;32m     16\u001b[0m \u001b[0mprint\u001b[0m\u001b[0;34m(\u001b[0m\u001b[0mpredict_intent_tag\u001b[0m\u001b[0;34m(\u001b[0m\u001b[0;34m'Where is my order'\u001b[0m\u001b[0;34m)\u001b[0m\u001b[0;34m)\u001b[0m\u001b[0;34m\u001b[0m\u001b[0;34m\u001b[0m\u001b[0m\n",
            "\u001b[0;32m<ipython-input-20-fdf1038141fa>\u001b[0m in \u001b[0;36mpredict_intent_tag\u001b[0;34m(message)\u001b[0m\n\u001b[1;32m      9\u001b[0m         \u001b[0;32mreturn\u001b[0m \u001b[0;34m'noanswer'\u001b[0m\u001b[0;34m\u001b[0m\u001b[0;34m\u001b[0m\u001b[0m\n\u001b[1;32m     10\u001b[0m     \u001b[0mprediction\u001b[0m \u001b[0;34m=\u001b[0m \u001b[0mnp\u001b[0m\u001b[0;34m.\u001b[0m\u001b[0mzeros_like\u001b[0m\u001b[0;34m(\u001b[0m\u001b[0my\u001b[0m\u001b[0;34m[\u001b[0m\u001b[0;36m0\u001b[0m\u001b[0;34m]\u001b[0m\u001b[0;34m)\u001b[0m\u001b[0;34m\u001b[0m\u001b[0;34m\u001b[0m\u001b[0m\n\u001b[0;32m---> 11\u001b[0;31m     \u001b[0mprediction\u001b[0m\u001b[0;34m[\u001b[0m\u001b[0my\u001b[0m\u001b[0;34m.\u001b[0m\u001b[0margmax\u001b[0m\u001b[0;34m(\u001b[0m\u001b[0;34m)\u001b[0m\u001b[0;34m]\u001b[0m \u001b[0;34m=\u001b[0m \u001b[0;36m1\u001b[0m\u001b[0;34m\u001b[0m\u001b[0;34m\u001b[0m\u001b[0m\n\u001b[0m\u001b[1;32m     12\u001b[0m     \u001b[0mtag\u001b[0m \u001b[0;34m=\u001b[0m \u001b[0mencoder\u001b[0m\u001b[0;34m.\u001b[0m\u001b[0minverse_transform\u001b[0m\u001b[0;34m(\u001b[0m\u001b[0;34m[\u001b[0m\u001b[0mprediction\u001b[0m\u001b[0;34m]\u001b[0m\u001b[0;34m)\u001b[0m\u001b[0;34m[\u001b[0m\u001b[0;36m0\u001b[0m\u001b[0;34m]\u001b[0m\u001b[0;34m[\u001b[0m\u001b[0;36m0\u001b[0m\u001b[0;34m]\u001b[0m\u001b[0;34m\u001b[0m\u001b[0;34m\u001b[0m\u001b[0m\n\u001b[1;32m     13\u001b[0m     \u001b[0;32mreturn\u001b[0m \u001b[0mtag\u001b[0m\u001b[0;34m\u001b[0m\u001b[0;34m\u001b[0m\u001b[0m\n",
            "\u001b[0;31mIndexError\u001b[0m: index 34 is out of bounds for axis 0 with size 18"
          ]
        }
      ]
    },
    {
      "cell_type": "code",
      "source": [
        ""
      ],
      "metadata": {
        "colab": {
          "base_uri": "https://localhost:8080/",
          "height": 321
        },
        "id": "C2TB72s0UGiO",
        "outputId": "bffa2b96-a24a-4759-9bdb-8aff9ef3020a"
      },
      "execution_count": null,
      "outputs": [
        {
          "output_type": "error",
          "ename": "IndexError",
          "evalue": "ignored",
          "traceback": [
            "\u001b[0;31m---------------------------------------------------------------------------\u001b[0m",
            "\u001b[0;31mIndexError\u001b[0m                                Traceback (most recent call last)",
            "\u001b[0;32m<ipython-input-17-cb81b3729ebb>\u001b[0m in \u001b[0;36m<module>\u001b[0;34m()\u001b[0m\n\u001b[0;32m----> 1\u001b[0;31m \u001b[0mprint\u001b[0m\u001b[0;34m(\u001b[0m\u001b[0mpredict_intent_tag\u001b[0m\u001b[0;34m(\u001b[0m\u001b[0;34m'How you could help me?'\u001b[0m\u001b[0;34m)\u001b[0m\u001b[0;34m)\u001b[0m\u001b[0;34m\u001b[0m\u001b[0;34m\u001b[0m\u001b[0m\n\u001b[0m\u001b[1;32m      2\u001b[0m \u001b[0mprint\u001b[0m\u001b[0;34m(\u001b[0m\u001b[0mpredict_intent_tag\u001b[0m\u001b[0;34m(\u001b[0m\u001b[0;34m'swiggy chat bot'\u001b[0m\u001b[0;34m)\u001b[0m\u001b[0;34m)\u001b[0m\u001b[0;34m\u001b[0m\u001b[0;34m\u001b[0m\u001b[0m\n\u001b[1;32m      3\u001b[0m \u001b[0mprint\u001b[0m\u001b[0;34m(\u001b[0m\u001b[0mpredict_intent_tag\u001b[0m\u001b[0;34m(\u001b[0m\u001b[0;34m'Where is my order'\u001b[0m\u001b[0;34m)\u001b[0m\u001b[0;34m)\u001b[0m\u001b[0;34m\u001b[0m\u001b[0;34m\u001b[0m\u001b[0m\n",
            "\u001b[0;32m<ipython-input-14-8ec10d3be704>\u001b[0m in \u001b[0;36mpredict_intent_tag\u001b[0;34m(message)\u001b[0m\n\u001b[1;32m      9\u001b[0m         \u001b[0;32mreturn\u001b[0m \u001b[0;34m'noanswer'\u001b[0m\u001b[0;34m\u001b[0m\u001b[0;34m\u001b[0m\u001b[0m\n\u001b[1;32m     10\u001b[0m     \u001b[0mprediction\u001b[0m \u001b[0;34m=\u001b[0m \u001b[0mnp\u001b[0m\u001b[0;34m.\u001b[0m\u001b[0mzeros_like\u001b[0m\u001b[0;34m(\u001b[0m\u001b[0my\u001b[0m\u001b[0;34m[\u001b[0m\u001b[0;36m0\u001b[0m\u001b[0;34m]\u001b[0m\u001b[0;34m)\u001b[0m\u001b[0;34m\u001b[0m\u001b[0;34m\u001b[0m\u001b[0m\n\u001b[0;32m---> 11\u001b[0;31m     \u001b[0mprediction\u001b[0m\u001b[0;34m[\u001b[0m\u001b[0my\u001b[0m\u001b[0;34m.\u001b[0m\u001b[0margmax\u001b[0m\u001b[0;34m(\u001b[0m\u001b[0;34m)\u001b[0m\u001b[0;34m]\u001b[0m \u001b[0;34m=\u001b[0m \u001b[0;36m1\u001b[0m\u001b[0;34m\u001b[0m\u001b[0;34m\u001b[0m\u001b[0m\n\u001b[0m\u001b[1;32m     12\u001b[0m     \u001b[0mtag\u001b[0m \u001b[0;34m=\u001b[0m \u001b[0mencoder\u001b[0m\u001b[0;34m.\u001b[0m\u001b[0minverse_transform\u001b[0m\u001b[0;34m(\u001b[0m\u001b[0;34m[\u001b[0m\u001b[0mprediction\u001b[0m\u001b[0;34m]\u001b[0m\u001b[0;34m)\u001b[0m\u001b[0;34m[\u001b[0m\u001b[0;36m0\u001b[0m\u001b[0;34m]\u001b[0m\u001b[0;34m[\u001b[0m\u001b[0;36m0\u001b[0m\u001b[0;34m]\u001b[0m\u001b[0;34m\u001b[0m\u001b[0;34m\u001b[0m\u001b[0m\n\u001b[1;32m     13\u001b[0m     \u001b[0;32mreturn\u001b[0m \u001b[0mtag\u001b[0m\u001b[0;34m\u001b[0m\u001b[0;34m\u001b[0m\u001b[0m\n",
            "\u001b[0;31mIndexError\u001b[0m: index 34 is out of bounds for axis 0 with size 18"
          ]
        }
      ]
    }
  ]
}