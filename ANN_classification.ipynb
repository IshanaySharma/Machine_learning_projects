{
  "nbformat": 4,
  "nbformat_minor": 0,
  "metadata": {
    "colab": {
      "name": "ANN_classification.ipynb",
      "provenance": [],
      "authorship_tag": "ABX9TyMjItZKmpNizYR6+O3LJrUP",
      "include_colab_link": true
    },
    "kernelspec": {
      "name": "python3",
      "display_name": "Python 3"
    },
    "language_info": {
      "name": "python"
    }
  },
  "cells": [
    {
      "cell_type": "markdown",
      "metadata": {
        "id": "view-in-github",
        "colab_type": "text"
      },
      "source": [
        "<a href=\"https://colab.research.google.com/github/IshanaySharma/Machine_learning_projects/blob/main/ANN_classification.ipynb\" target=\"_parent\"><img src=\"https://colab.research.google.com/assets/colab-badge.svg\" alt=\"Open In Colab\"/></a>"
      ]
    },
    {
      "cell_type": "code",
      "execution_count": 1,
      "metadata": {
        "id": "MR_1VsmqKljf"
      },
      "outputs": [],
      "source": [
        "import pandas as pd\n",
        "import numpy as np\n",
        "import seaborn as sns\n",
        "import matplotlib.pyplot as plt"
      ]
    },
    {
      "cell_type": "code",
      "source": [
        "df = pd.read_csv('/content/heart.csv')\n",
        "df.head()"
      ],
      "metadata": {
        "colab": {
          "base_uri": "https://localhost:8080/",
          "height": 206
        },
        "id": "Cna1u6eqK1ql",
        "outputId": "3b1ea1e9-0348-441a-956d-95ea3f385f0c"
      },
      "execution_count": 3,
      "outputs": [
        {
          "output_type": "execute_result",
          "data": {
            "text/html": [
              "\n",
              "  <div id=\"df-a32498cb-e788-4296-a168-008e842a3b2a\">\n",
              "    <div class=\"colab-df-container\">\n",
              "      <div>\n",
              "<style scoped>\n",
              "    .dataframe tbody tr th:only-of-type {\n",
              "        vertical-align: middle;\n",
              "    }\n",
              "\n",
              "    .dataframe tbody tr th {\n",
              "        vertical-align: top;\n",
              "    }\n",
              "\n",
              "    .dataframe thead th {\n",
              "        text-align: right;\n",
              "    }\n",
              "</style>\n",
              "<table border=\"1\" class=\"dataframe\">\n",
              "  <thead>\n",
              "    <tr style=\"text-align: right;\">\n",
              "      <th></th>\n",
              "      <th>age</th>\n",
              "      <th>sex</th>\n",
              "      <th>cp</th>\n",
              "      <th>trestbps</th>\n",
              "      <th>chol</th>\n",
              "      <th>fbs</th>\n",
              "      <th>restecg</th>\n",
              "      <th>thalach</th>\n",
              "      <th>exang</th>\n",
              "      <th>oldpeak</th>\n",
              "      <th>slope</th>\n",
              "      <th>ca</th>\n",
              "      <th>thal</th>\n",
              "      <th>target</th>\n",
              "    </tr>\n",
              "  </thead>\n",
              "  <tbody>\n",
              "    <tr>\n",
              "      <th>0</th>\n",
              "      <td>63</td>\n",
              "      <td>1</td>\n",
              "      <td>3</td>\n",
              "      <td>145</td>\n",
              "      <td>233</td>\n",
              "      <td>1</td>\n",
              "      <td>0</td>\n",
              "      <td>150</td>\n",
              "      <td>0</td>\n",
              "      <td>2.3</td>\n",
              "      <td>0</td>\n",
              "      <td>0</td>\n",
              "      <td>1</td>\n",
              "      <td>1</td>\n",
              "    </tr>\n",
              "    <tr>\n",
              "      <th>1</th>\n",
              "      <td>37</td>\n",
              "      <td>1</td>\n",
              "      <td>2</td>\n",
              "      <td>130</td>\n",
              "      <td>250</td>\n",
              "      <td>0</td>\n",
              "      <td>1</td>\n",
              "      <td>187</td>\n",
              "      <td>0</td>\n",
              "      <td>3.5</td>\n",
              "      <td>0</td>\n",
              "      <td>0</td>\n",
              "      <td>2</td>\n",
              "      <td>1</td>\n",
              "    </tr>\n",
              "    <tr>\n",
              "      <th>2</th>\n",
              "      <td>41</td>\n",
              "      <td>0</td>\n",
              "      <td>1</td>\n",
              "      <td>130</td>\n",
              "      <td>204</td>\n",
              "      <td>0</td>\n",
              "      <td>0</td>\n",
              "      <td>172</td>\n",
              "      <td>0</td>\n",
              "      <td>1.4</td>\n",
              "      <td>2</td>\n",
              "      <td>0</td>\n",
              "      <td>2</td>\n",
              "      <td>1</td>\n",
              "    </tr>\n",
              "    <tr>\n",
              "      <th>3</th>\n",
              "      <td>56</td>\n",
              "      <td>1</td>\n",
              "      <td>1</td>\n",
              "      <td>120</td>\n",
              "      <td>236</td>\n",
              "      <td>0</td>\n",
              "      <td>1</td>\n",
              "      <td>178</td>\n",
              "      <td>0</td>\n",
              "      <td>0.8</td>\n",
              "      <td>2</td>\n",
              "      <td>0</td>\n",
              "      <td>2</td>\n",
              "      <td>1</td>\n",
              "    </tr>\n",
              "    <tr>\n",
              "      <th>4</th>\n",
              "      <td>57</td>\n",
              "      <td>0</td>\n",
              "      <td>0</td>\n",
              "      <td>120</td>\n",
              "      <td>354</td>\n",
              "      <td>0</td>\n",
              "      <td>1</td>\n",
              "      <td>163</td>\n",
              "      <td>1</td>\n",
              "      <td>0.6</td>\n",
              "      <td>2</td>\n",
              "      <td>0</td>\n",
              "      <td>2</td>\n",
              "      <td>1</td>\n",
              "    </tr>\n",
              "  </tbody>\n",
              "</table>\n",
              "</div>\n",
              "      <button class=\"colab-df-convert\" onclick=\"convertToInteractive('df-a32498cb-e788-4296-a168-008e842a3b2a')\"\n",
              "              title=\"Convert this dataframe to an interactive table.\"\n",
              "              style=\"display:none;\">\n",
              "        \n",
              "  <svg xmlns=\"http://www.w3.org/2000/svg\" height=\"24px\"viewBox=\"0 0 24 24\"\n",
              "       width=\"24px\">\n",
              "    <path d=\"M0 0h24v24H0V0z\" fill=\"none\"/>\n",
              "    <path d=\"M18.56 5.44l.94 2.06.94-2.06 2.06-.94-2.06-.94-.94-2.06-.94 2.06-2.06.94zm-11 1L8.5 8.5l.94-2.06 2.06-.94-2.06-.94L8.5 2.5l-.94 2.06-2.06.94zm10 10l.94 2.06.94-2.06 2.06-.94-2.06-.94-.94-2.06-.94 2.06-2.06.94z\"/><path d=\"M17.41 7.96l-1.37-1.37c-.4-.4-.92-.59-1.43-.59-.52 0-1.04.2-1.43.59L10.3 9.45l-7.72 7.72c-.78.78-.78 2.05 0 2.83L4 21.41c.39.39.9.59 1.41.59.51 0 1.02-.2 1.41-.59l7.78-7.78 2.81-2.81c.8-.78.8-2.07 0-2.86zM5.41 20L4 18.59l7.72-7.72 1.47 1.35L5.41 20z\"/>\n",
              "  </svg>\n",
              "      </button>\n",
              "      \n",
              "  <style>\n",
              "    .colab-df-container {\n",
              "      display:flex;\n",
              "      flex-wrap:wrap;\n",
              "      gap: 12px;\n",
              "    }\n",
              "\n",
              "    .colab-df-convert {\n",
              "      background-color: #E8F0FE;\n",
              "      border: none;\n",
              "      border-radius: 50%;\n",
              "      cursor: pointer;\n",
              "      display: none;\n",
              "      fill: #1967D2;\n",
              "      height: 32px;\n",
              "      padding: 0 0 0 0;\n",
              "      width: 32px;\n",
              "    }\n",
              "\n",
              "    .colab-df-convert:hover {\n",
              "      background-color: #E2EBFA;\n",
              "      box-shadow: 0px 1px 2px rgba(60, 64, 67, 0.3), 0px 1px 3px 1px rgba(60, 64, 67, 0.15);\n",
              "      fill: #174EA6;\n",
              "    }\n",
              "\n",
              "    [theme=dark] .colab-df-convert {\n",
              "      background-color: #3B4455;\n",
              "      fill: #D2E3FC;\n",
              "    }\n",
              "\n",
              "    [theme=dark] .colab-df-convert:hover {\n",
              "      background-color: #434B5C;\n",
              "      box-shadow: 0px 1px 3px 1px rgba(0, 0, 0, 0.15);\n",
              "      filter: drop-shadow(0px 1px 2px rgba(0, 0, 0, 0.3));\n",
              "      fill: #FFFFFF;\n",
              "    }\n",
              "  </style>\n",
              "\n",
              "      <script>\n",
              "        const buttonEl =\n",
              "          document.querySelector('#df-a32498cb-e788-4296-a168-008e842a3b2a button.colab-df-convert');\n",
              "        buttonEl.style.display =\n",
              "          google.colab.kernel.accessAllowed ? 'block' : 'none';\n",
              "\n",
              "        async function convertToInteractive(key) {\n",
              "          const element = document.querySelector('#df-a32498cb-e788-4296-a168-008e842a3b2a');\n",
              "          const dataTable =\n",
              "            await google.colab.kernel.invokeFunction('convertToInteractive',\n",
              "                                                     [key], {});\n",
              "          if (!dataTable) return;\n",
              "\n",
              "          const docLinkHtml = 'Like what you see? Visit the ' +\n",
              "            '<a target=\"_blank\" href=https://colab.research.google.com/notebooks/data_table.ipynb>data table notebook</a>'\n",
              "            + ' to learn more about interactive tables.';\n",
              "          element.innerHTML = '';\n",
              "          dataTable['output_type'] = 'display_data';\n",
              "          await google.colab.output.renderOutput(dataTable, element);\n",
              "          const docLink = document.createElement('div');\n",
              "          docLink.innerHTML = docLinkHtml;\n",
              "          element.appendChild(docLink);\n",
              "        }\n",
              "      </script>\n",
              "    </div>\n",
              "  </div>\n",
              "  "
            ],
            "text/plain": [
              "   age  sex  cp  trestbps  chol  fbs  ...  exang  oldpeak  slope  ca  thal  target\n",
              "0   63    1   3       145   233    1  ...      0      2.3      0   0     1       1\n",
              "1   37    1   2       130   250    0  ...      0      3.5      0   0     2       1\n",
              "2   41    0   1       130   204    0  ...      0      1.4      2   0     2       1\n",
              "3   56    1   1       120   236    0  ...      0      0.8      2   0     2       1\n",
              "4   57    0   0       120   354    0  ...      1      0.6      2   0     2       1\n",
              "\n",
              "[5 rows x 14 columns]"
            ]
          },
          "metadata": {},
          "execution_count": 3
        }
      ]
    },
    {
      "cell_type": "code",
      "source": [
        "df.shape"
      ],
      "metadata": {
        "colab": {
          "base_uri": "https://localhost:8080/"
        },
        "id": "noa1Nm5JLQAk",
        "outputId": "a7454519-8d05-4173-d098-0438dee3ca36"
      },
      "execution_count": 4,
      "outputs": [
        {
          "output_type": "execute_result",
          "data": {
            "text/plain": [
              "(303, 14)"
            ]
          },
          "metadata": {},
          "execution_count": 4
        }
      ]
    },
    {
      "cell_type": "code",
      "source": [
        "df.isnull().sum()"
      ],
      "metadata": {
        "colab": {
          "base_uri": "https://localhost:8080/"
        },
        "id": "zWYPAj7oLexL",
        "outputId": "17797a8c-9776-4377-ce95-ca8591a2f38d"
      },
      "execution_count": 5,
      "outputs": [
        {
          "output_type": "execute_result",
          "data": {
            "text/plain": [
              "age         0\n",
              "sex         0\n",
              "cp          0\n",
              "trestbps    0\n",
              "chol        0\n",
              "fbs         0\n",
              "restecg     0\n",
              "thalach     0\n",
              "exang       0\n",
              "oldpeak     0\n",
              "slope       0\n",
              "ca          0\n",
              "thal        0\n",
              "target      0\n",
              "dtype: int64"
            ]
          },
          "metadata": {},
          "execution_count": 5
        }
      ]
    },
    {
      "cell_type": "code",
      "source": [
        "df['target'].value_counts()"
      ],
      "metadata": {
        "colab": {
          "base_uri": "https://localhost:8080/"
        },
        "id": "TwQkUGEeLifg",
        "outputId": "14bfee40-b63e-4750-9131-6854828391c6"
      },
      "execution_count": 11,
      "outputs": [
        {
          "output_type": "execute_result",
          "data": {
            "text/plain": [
              "1    165\n",
              "0    138\n",
              "Name: target, dtype: int64"
            ]
          },
          "metadata": {},
          "execution_count": 11
        }
      ]
    },
    {
      "cell_type": "code",
      "source": [
        "x = df.iloc[:,:-1]\n",
        "y = df.iloc[:,-1]\n",
        "print(type(x), type(y))"
      ],
      "metadata": {
        "colab": {
          "base_uri": "https://localhost:8080/"
        },
        "id": "xHpYVcXWMj5R",
        "outputId": "ad55a26e-6f52-410a-cde4-98fca219f955"
      },
      "execution_count": 12,
      "outputs": [
        {
          "output_type": "stream",
          "name": "stdout",
          "text": [
            "<class 'pandas.core.frame.DataFrame'> <class 'pandas.core.series.Series'>\n"
          ]
        }
      ]
    },
    {
      "cell_type": "code",
      "source": [
        "print(x.shape,y.shape)"
      ],
      "metadata": {
        "colab": {
          "base_uri": "https://localhost:8080/"
        },
        "id": "X7aBxpNnNE_L",
        "outputId": "90082eda-a98d-4d0a-e068-544c05ca0a23"
      },
      "execution_count": 13,
      "outputs": [
        {
          "output_type": "stream",
          "name": "stdout",
          "text": [
            "(303, 13) (303,)\n"
          ]
        }
      ]
    },
    {
      "cell_type": "code",
      "source": [
        "x.head()"
      ],
      "metadata": {
        "colab": {
          "base_uri": "https://localhost:8080/",
          "height": 206
        },
        "id": "XSW2n9utNPh7",
        "outputId": "554ee94c-7d50-49f3-de9c-1d2e5bd38704"
      },
      "execution_count": 14,
      "outputs": [
        {
          "output_type": "execute_result",
          "data": {
            "text/html": [
              "\n",
              "  <div id=\"df-dec36941-6094-43d5-9ef5-298996ddfa53\">\n",
              "    <div class=\"colab-df-container\">\n",
              "      <div>\n",
              "<style scoped>\n",
              "    .dataframe tbody tr th:only-of-type {\n",
              "        vertical-align: middle;\n",
              "    }\n",
              "\n",
              "    .dataframe tbody tr th {\n",
              "        vertical-align: top;\n",
              "    }\n",
              "\n",
              "    .dataframe thead th {\n",
              "        text-align: right;\n",
              "    }\n",
              "</style>\n",
              "<table border=\"1\" class=\"dataframe\">\n",
              "  <thead>\n",
              "    <tr style=\"text-align: right;\">\n",
              "      <th></th>\n",
              "      <th>age</th>\n",
              "      <th>sex</th>\n",
              "      <th>cp</th>\n",
              "      <th>trestbps</th>\n",
              "      <th>chol</th>\n",
              "      <th>fbs</th>\n",
              "      <th>restecg</th>\n",
              "      <th>thalach</th>\n",
              "      <th>exang</th>\n",
              "      <th>oldpeak</th>\n",
              "      <th>slope</th>\n",
              "      <th>ca</th>\n",
              "      <th>thal</th>\n",
              "    </tr>\n",
              "  </thead>\n",
              "  <tbody>\n",
              "    <tr>\n",
              "      <th>0</th>\n",
              "      <td>63</td>\n",
              "      <td>1</td>\n",
              "      <td>3</td>\n",
              "      <td>145</td>\n",
              "      <td>233</td>\n",
              "      <td>1</td>\n",
              "      <td>0</td>\n",
              "      <td>150</td>\n",
              "      <td>0</td>\n",
              "      <td>2.3</td>\n",
              "      <td>0</td>\n",
              "      <td>0</td>\n",
              "      <td>1</td>\n",
              "    </tr>\n",
              "    <tr>\n",
              "      <th>1</th>\n",
              "      <td>37</td>\n",
              "      <td>1</td>\n",
              "      <td>2</td>\n",
              "      <td>130</td>\n",
              "      <td>250</td>\n",
              "      <td>0</td>\n",
              "      <td>1</td>\n",
              "      <td>187</td>\n",
              "      <td>0</td>\n",
              "      <td>3.5</td>\n",
              "      <td>0</td>\n",
              "      <td>0</td>\n",
              "      <td>2</td>\n",
              "    </tr>\n",
              "    <tr>\n",
              "      <th>2</th>\n",
              "      <td>41</td>\n",
              "      <td>0</td>\n",
              "      <td>1</td>\n",
              "      <td>130</td>\n",
              "      <td>204</td>\n",
              "      <td>0</td>\n",
              "      <td>0</td>\n",
              "      <td>172</td>\n",
              "      <td>0</td>\n",
              "      <td>1.4</td>\n",
              "      <td>2</td>\n",
              "      <td>0</td>\n",
              "      <td>2</td>\n",
              "    </tr>\n",
              "    <tr>\n",
              "      <th>3</th>\n",
              "      <td>56</td>\n",
              "      <td>1</td>\n",
              "      <td>1</td>\n",
              "      <td>120</td>\n",
              "      <td>236</td>\n",
              "      <td>0</td>\n",
              "      <td>1</td>\n",
              "      <td>178</td>\n",
              "      <td>0</td>\n",
              "      <td>0.8</td>\n",
              "      <td>2</td>\n",
              "      <td>0</td>\n",
              "      <td>2</td>\n",
              "    </tr>\n",
              "    <tr>\n",
              "      <th>4</th>\n",
              "      <td>57</td>\n",
              "      <td>0</td>\n",
              "      <td>0</td>\n",
              "      <td>120</td>\n",
              "      <td>354</td>\n",
              "      <td>0</td>\n",
              "      <td>1</td>\n",
              "      <td>163</td>\n",
              "      <td>1</td>\n",
              "      <td>0.6</td>\n",
              "      <td>2</td>\n",
              "      <td>0</td>\n",
              "      <td>2</td>\n",
              "    </tr>\n",
              "  </tbody>\n",
              "</table>\n",
              "</div>\n",
              "      <button class=\"colab-df-convert\" onclick=\"convertToInteractive('df-dec36941-6094-43d5-9ef5-298996ddfa53')\"\n",
              "              title=\"Convert this dataframe to an interactive table.\"\n",
              "              style=\"display:none;\">\n",
              "        \n",
              "  <svg xmlns=\"http://www.w3.org/2000/svg\" height=\"24px\"viewBox=\"0 0 24 24\"\n",
              "       width=\"24px\">\n",
              "    <path d=\"M0 0h24v24H0V0z\" fill=\"none\"/>\n",
              "    <path d=\"M18.56 5.44l.94 2.06.94-2.06 2.06-.94-2.06-.94-.94-2.06-.94 2.06-2.06.94zm-11 1L8.5 8.5l.94-2.06 2.06-.94-2.06-.94L8.5 2.5l-.94 2.06-2.06.94zm10 10l.94 2.06.94-2.06 2.06-.94-2.06-.94-.94-2.06-.94 2.06-2.06.94z\"/><path d=\"M17.41 7.96l-1.37-1.37c-.4-.4-.92-.59-1.43-.59-.52 0-1.04.2-1.43.59L10.3 9.45l-7.72 7.72c-.78.78-.78 2.05 0 2.83L4 21.41c.39.39.9.59 1.41.59.51 0 1.02-.2 1.41-.59l7.78-7.78 2.81-2.81c.8-.78.8-2.07 0-2.86zM5.41 20L4 18.59l7.72-7.72 1.47 1.35L5.41 20z\"/>\n",
              "  </svg>\n",
              "      </button>\n",
              "      \n",
              "  <style>\n",
              "    .colab-df-container {\n",
              "      display:flex;\n",
              "      flex-wrap:wrap;\n",
              "      gap: 12px;\n",
              "    }\n",
              "\n",
              "    .colab-df-convert {\n",
              "      background-color: #E8F0FE;\n",
              "      border: none;\n",
              "      border-radius: 50%;\n",
              "      cursor: pointer;\n",
              "      display: none;\n",
              "      fill: #1967D2;\n",
              "      height: 32px;\n",
              "      padding: 0 0 0 0;\n",
              "      width: 32px;\n",
              "    }\n",
              "\n",
              "    .colab-df-convert:hover {\n",
              "      background-color: #E2EBFA;\n",
              "      box-shadow: 0px 1px 2px rgba(60, 64, 67, 0.3), 0px 1px 3px 1px rgba(60, 64, 67, 0.15);\n",
              "      fill: #174EA6;\n",
              "    }\n",
              "\n",
              "    [theme=dark] .colab-df-convert {\n",
              "      background-color: #3B4455;\n",
              "      fill: #D2E3FC;\n",
              "    }\n",
              "\n",
              "    [theme=dark] .colab-df-convert:hover {\n",
              "      background-color: #434B5C;\n",
              "      box-shadow: 0px 1px 3px 1px rgba(0, 0, 0, 0.15);\n",
              "      filter: drop-shadow(0px 1px 2px rgba(0, 0, 0, 0.3));\n",
              "      fill: #FFFFFF;\n",
              "    }\n",
              "  </style>\n",
              "\n",
              "      <script>\n",
              "        const buttonEl =\n",
              "          document.querySelector('#df-dec36941-6094-43d5-9ef5-298996ddfa53 button.colab-df-convert');\n",
              "        buttonEl.style.display =\n",
              "          google.colab.kernel.accessAllowed ? 'block' : 'none';\n",
              "\n",
              "        async function convertToInteractive(key) {\n",
              "          const element = document.querySelector('#df-dec36941-6094-43d5-9ef5-298996ddfa53');\n",
              "          const dataTable =\n",
              "            await google.colab.kernel.invokeFunction('convertToInteractive',\n",
              "                                                     [key], {});\n",
              "          if (!dataTable) return;\n",
              "\n",
              "          const docLinkHtml = 'Like what you see? Visit the ' +\n",
              "            '<a target=\"_blank\" href=https://colab.research.google.com/notebooks/data_table.ipynb>data table notebook</a>'\n",
              "            + ' to learn more about interactive tables.';\n",
              "          element.innerHTML = '';\n",
              "          dataTable['output_type'] = 'display_data';\n",
              "          await google.colab.output.renderOutput(dataTable, element);\n",
              "          const docLink = document.createElement('div');\n",
              "          docLink.innerHTML = docLinkHtml;\n",
              "          element.appendChild(docLink);\n",
              "        }\n",
              "      </script>\n",
              "    </div>\n",
              "  </div>\n",
              "  "
            ],
            "text/plain": [
              "   age  sex  cp  trestbps  chol  fbs  ...  thalach  exang  oldpeak  slope  ca  thal\n",
              "0   63    1   3       145   233    1  ...      150      0      2.3      0   0     1\n",
              "1   37    1   2       130   250    0  ...      187      0      3.5      0   0     2\n",
              "2   41    0   1       130   204    0  ...      172      0      1.4      2   0     2\n",
              "3   56    1   1       120   236    0  ...      178      0      0.8      2   0     2\n",
              "4   57    0   0       120   354    0  ...      163      1      0.6      2   0     2\n",
              "\n",
              "[5 rows x 13 columns]"
            ]
          },
          "metadata": {},
          "execution_count": 14
        }
      ]
    },
    {
      "cell_type": "code",
      "source": [
        "y.head()"
      ],
      "metadata": {
        "colab": {
          "base_uri": "https://localhost:8080/"
        },
        "id": "BK_4xaLFNXsQ",
        "outputId": "67e404f8-cd92-4eab-b134-ea2896371ed1"
      },
      "execution_count": 15,
      "outputs": [
        {
          "output_type": "execute_result",
          "data": {
            "text/plain": [
              "0    1\n",
              "1    1\n",
              "2    1\n",
              "3    1\n",
              "4    1\n",
              "Name: target, dtype: int64"
            ]
          },
          "metadata": {},
          "execution_count": 15
        }
      ]
    },
    {
      "cell_type": "code",
      "source": [
        "from sklearn.model_selection import train_test_split"
      ],
      "metadata": {
        "id": "dVewnSpqNbEr"
      },
      "execution_count": 16,
      "outputs": []
    },
    {
      "cell_type": "code",
      "source": [
        "x_test,x_train,y_test,y_train = train_test_split(x,y,test_size=0.25) "
      ],
      "metadata": {
        "id": "afpnZns2NnDz"
      },
      "execution_count": 17,
      "outputs": []
    },
    {
      "cell_type": "code",
      "source": [
        "print(x_test.shape)\n",
        "print(x_train.shape)\n",
        "print(y_test.shape)\n",
        "print(y_train.shape)"
      ],
      "metadata": {
        "colab": {
          "base_uri": "https://localhost:8080/"
        },
        "id": "fLFDKesnOML5",
        "outputId": "bf6aa438-e3df-4c27-c575-f945031fb247"
      },
      "execution_count": 18,
      "outputs": [
        {
          "output_type": "stream",
          "name": "stdout",
          "text": [
            "(227, 13)\n",
            "(76, 13)\n",
            "(227,)\n",
            "(76,)\n"
          ]
        }
      ]
    },
    {
      "cell_type": "code",
      "source": [
        "import tensorflow as tf\n",
        "from tensorflow.keras.models import Sequential\n",
        "from tensorflow.keras.layers import Dense, LeakyReLU"
      ],
      "metadata": {
        "id": "_f9X62trOueb"
      },
      "execution_count": 21,
      "outputs": []
    },
    {
      "cell_type": "code",
      "source": [
        "print(x_train.shape)"
      ],
      "metadata": {
        "colab": {
          "base_uri": "https://localhost:8080/"
        },
        "id": "J9ZYI9Sawybh",
        "outputId": "9a1e8576-4412-4d67-dd75-e19bb0417d3c"
      },
      "execution_count": 65,
      "outputs": [
        {
          "output_type": "stream",
          "name": "stdout",
          "text": [
            "(76, 13)\n"
          ]
        }
      ]
    },
    {
      "cell_type": "code",
      "source": [
        "m1 = Sequential()\n",
        "m1.add(Dense(128,input_dim=13,activation='relu'))\n",
        "m1.add(Dense(64,activation='relu'))\n",
        "m1.add(Dense(32,activation='relu'))\n",
        "m1.add(Dense(1,activation='sigmoid'))\n",
        "\n",
        "m1.compile(optimizer='adam',loss='binary_crossentropy',metrics=['accuracy'])"
      ],
      "metadata": {
        "id": "mCp5JSvWOwwt"
      },
      "execution_count": 49,
      "outputs": []
    },
    {
      "cell_type": "code",
      "source": [
        "h1 = m1.fit(x_train,y_train,validation_data=(x_test,y_test),epochs=20)"
      ],
      "metadata": {
        "colab": {
          "base_uri": "https://localhost:8080/"
        },
        "id": "nB1JVHE8Tqx6",
        "outputId": "2bd61af4-ea5a-42c0-f4fd-6a3162a78ab6"
      },
      "execution_count": 75,
      "outputs": [
        {
          "output_type": "stream",
          "name": "stdout",
          "text": [
            "Epoch 1/20\n",
            "3/3 [==============================] - 0s 103ms/step - loss: 0.3804 - accuracy: 0.8026 - val_loss: 0.6749 - val_accuracy: 0.6828\n",
            "Epoch 2/20\n",
            "3/3 [==============================] - 0s 52ms/step - loss: 0.3285 - accuracy: 0.8421 - val_loss: 0.6694 - val_accuracy: 0.7004\n",
            "Epoch 3/20\n",
            "3/3 [==============================] - 0s 33ms/step - loss: 0.2998 - accuracy: 0.8553 - val_loss: 0.6771 - val_accuracy: 0.6696\n",
            "Epoch 4/20\n",
            "3/3 [==============================] - 0s 40ms/step - loss: 0.3328 - accuracy: 0.8289 - val_loss: 0.6606 - val_accuracy: 0.7004\n",
            "Epoch 5/20\n",
            "3/3 [==============================] - 0s 34ms/step - loss: 0.3213 - accuracy: 0.8421 - val_loss: 0.6577 - val_accuracy: 0.7004\n",
            "Epoch 6/20\n",
            "3/3 [==============================] - 0s 49ms/step - loss: 0.3172 - accuracy: 0.8684 - val_loss: 0.8755 - val_accuracy: 0.6344\n",
            "Epoch 7/20\n",
            "3/3 [==============================] - 0s 51ms/step - loss: 0.4807 - accuracy: 0.6974 - val_loss: 0.6839 - val_accuracy: 0.6652\n",
            "Epoch 8/20\n",
            "3/3 [==============================] - 0s 32ms/step - loss: 0.4028 - accuracy: 0.8158 - val_loss: 0.7210 - val_accuracy: 0.7048\n",
            "Epoch 9/20\n",
            "3/3 [==============================] - 0s 51ms/step - loss: 0.4619 - accuracy: 0.7632 - val_loss: 0.6692 - val_accuracy: 0.7048\n",
            "Epoch 10/20\n",
            "3/3 [==============================] - 0s 85ms/step - loss: 0.4018 - accuracy: 0.8158 - val_loss: 0.6768 - val_accuracy: 0.7048\n",
            "Epoch 11/20\n",
            "3/3 [==============================] - 0s 37ms/step - loss: 0.3637 - accuracy: 0.8289 - val_loss: 0.9846 - val_accuracy: 0.6167\n",
            "Epoch 12/20\n",
            "3/3 [==============================] - 0s 29ms/step - loss: 0.3818 - accuracy: 0.8289 - val_loss: 0.9251 - val_accuracy: 0.6652\n",
            "Epoch 13/20\n",
            "3/3 [==============================] - 0s 42ms/step - loss: 0.5105 - accuracy: 0.7632 - val_loss: 0.7830 - val_accuracy: 0.6960\n",
            "Epoch 14/20\n",
            "3/3 [==============================] - 0s 31ms/step - loss: 0.3307 - accuracy: 0.8026 - val_loss: 0.7857 - val_accuracy: 0.6784\n",
            "Epoch 15/20\n",
            "3/3 [==============================] - 0s 56ms/step - loss: 0.3369 - accuracy: 0.8816 - val_loss: 0.7144 - val_accuracy: 0.6960\n",
            "Epoch 16/20\n",
            "3/3 [==============================] - 0s 59ms/step - loss: 0.3870 - accuracy: 0.8553 - val_loss: 0.7364 - val_accuracy: 0.6872\n",
            "Epoch 17/20\n",
            "3/3 [==============================] - 0s 51ms/step - loss: 0.5051 - accuracy: 0.7763 - val_loss: 0.7208 - val_accuracy: 0.7048\n",
            "Epoch 18/20\n",
            "3/3 [==============================] - 0s 40ms/step - loss: 0.5431 - accuracy: 0.7368 - val_loss: 0.9132 - val_accuracy: 0.6608\n",
            "Epoch 19/20\n",
            "3/3 [==============================] - 0s 66ms/step - loss: 0.3974 - accuracy: 0.8026 - val_loss: 1.3075 - val_accuracy: 0.5595\n",
            "Epoch 20/20\n",
            "3/3 [==============================] - 0s 54ms/step - loss: 0.5904 - accuracy: 0.6974 - val_loss: 0.8416 - val_accuracy: 0.6608\n"
          ]
        }
      ]
    },
    {
      "cell_type": "code",
      "source": [
        "r1 = pd.DataFrame(h1.history)\n",
        "r1['Epochs']= h1.epoch\n",
        "r1.tail()"
      ],
      "metadata": {
        "colab": {
          "base_uri": "https://localhost:8080/",
          "height": 206
        },
        "id": "NO3OmTXBUV1j",
        "outputId": "f64c46ea-640c-4f69-a9f2-ec0a12440816"
      },
      "execution_count": 77,
      "outputs": [
        {
          "output_type": "execute_result",
          "data": {
            "text/html": [
              "\n",
              "  <div id=\"df-57da8d55-b7f1-435c-b9cb-1909b6f59d1c\">\n",
              "    <div class=\"colab-df-container\">\n",
              "      <div>\n",
              "<style scoped>\n",
              "    .dataframe tbody tr th:only-of-type {\n",
              "        vertical-align: middle;\n",
              "    }\n",
              "\n",
              "    .dataframe tbody tr th {\n",
              "        vertical-align: top;\n",
              "    }\n",
              "\n",
              "    .dataframe thead th {\n",
              "        text-align: right;\n",
              "    }\n",
              "</style>\n",
              "<table border=\"1\" class=\"dataframe\">\n",
              "  <thead>\n",
              "    <tr style=\"text-align: right;\">\n",
              "      <th></th>\n",
              "      <th>loss</th>\n",
              "      <th>accuracy</th>\n",
              "      <th>val_loss</th>\n",
              "      <th>val_accuracy</th>\n",
              "      <th>Epochs</th>\n",
              "    </tr>\n",
              "  </thead>\n",
              "  <tbody>\n",
              "    <tr>\n",
              "      <th>15</th>\n",
              "      <td>0.387012</td>\n",
              "      <td>0.855263</td>\n",
              "      <td>0.736420</td>\n",
              "      <td>0.687225</td>\n",
              "      <td>15</td>\n",
              "    </tr>\n",
              "    <tr>\n",
              "      <th>16</th>\n",
              "      <td>0.505079</td>\n",
              "      <td>0.776316</td>\n",
              "      <td>0.720817</td>\n",
              "      <td>0.704846</td>\n",
              "      <td>16</td>\n",
              "    </tr>\n",
              "    <tr>\n",
              "      <th>17</th>\n",
              "      <td>0.543084</td>\n",
              "      <td>0.736842</td>\n",
              "      <td>0.913233</td>\n",
              "      <td>0.660793</td>\n",
              "      <td>17</td>\n",
              "    </tr>\n",
              "    <tr>\n",
              "      <th>18</th>\n",
              "      <td>0.397351</td>\n",
              "      <td>0.802632</td>\n",
              "      <td>1.307550</td>\n",
              "      <td>0.559471</td>\n",
              "      <td>18</td>\n",
              "    </tr>\n",
              "    <tr>\n",
              "      <th>19</th>\n",
              "      <td>0.590358</td>\n",
              "      <td>0.697368</td>\n",
              "      <td>0.841568</td>\n",
              "      <td>0.660793</td>\n",
              "      <td>19</td>\n",
              "    </tr>\n",
              "  </tbody>\n",
              "</table>\n",
              "</div>\n",
              "      <button class=\"colab-df-convert\" onclick=\"convertToInteractive('df-57da8d55-b7f1-435c-b9cb-1909b6f59d1c')\"\n",
              "              title=\"Convert this dataframe to an interactive table.\"\n",
              "              style=\"display:none;\">\n",
              "        \n",
              "  <svg xmlns=\"http://www.w3.org/2000/svg\" height=\"24px\"viewBox=\"0 0 24 24\"\n",
              "       width=\"24px\">\n",
              "    <path d=\"M0 0h24v24H0V0z\" fill=\"none\"/>\n",
              "    <path d=\"M18.56 5.44l.94 2.06.94-2.06 2.06-.94-2.06-.94-.94-2.06-.94 2.06-2.06.94zm-11 1L8.5 8.5l.94-2.06 2.06-.94-2.06-.94L8.5 2.5l-.94 2.06-2.06.94zm10 10l.94 2.06.94-2.06 2.06-.94-2.06-.94-.94-2.06-.94 2.06-2.06.94z\"/><path d=\"M17.41 7.96l-1.37-1.37c-.4-.4-.92-.59-1.43-.59-.52 0-1.04.2-1.43.59L10.3 9.45l-7.72 7.72c-.78.78-.78 2.05 0 2.83L4 21.41c.39.39.9.59 1.41.59.51 0 1.02-.2 1.41-.59l7.78-7.78 2.81-2.81c.8-.78.8-2.07 0-2.86zM5.41 20L4 18.59l7.72-7.72 1.47 1.35L5.41 20z\"/>\n",
              "  </svg>\n",
              "      </button>\n",
              "      \n",
              "  <style>\n",
              "    .colab-df-container {\n",
              "      display:flex;\n",
              "      flex-wrap:wrap;\n",
              "      gap: 12px;\n",
              "    }\n",
              "\n",
              "    .colab-df-convert {\n",
              "      background-color: #E8F0FE;\n",
              "      border: none;\n",
              "      border-radius: 50%;\n",
              "      cursor: pointer;\n",
              "      display: none;\n",
              "      fill: #1967D2;\n",
              "      height: 32px;\n",
              "      padding: 0 0 0 0;\n",
              "      width: 32px;\n",
              "    }\n",
              "\n",
              "    .colab-df-convert:hover {\n",
              "      background-color: #E2EBFA;\n",
              "      box-shadow: 0px 1px 2px rgba(60, 64, 67, 0.3), 0px 1px 3px 1px rgba(60, 64, 67, 0.15);\n",
              "      fill: #174EA6;\n",
              "    }\n",
              "\n",
              "    [theme=dark] .colab-df-convert {\n",
              "      background-color: #3B4455;\n",
              "      fill: #D2E3FC;\n",
              "    }\n",
              "\n",
              "    [theme=dark] .colab-df-convert:hover {\n",
              "      background-color: #434B5C;\n",
              "      box-shadow: 0px 1px 3px 1px rgba(0, 0, 0, 0.15);\n",
              "      filter: drop-shadow(0px 1px 2px rgba(0, 0, 0, 0.3));\n",
              "      fill: #FFFFFF;\n",
              "    }\n",
              "  </style>\n",
              "\n",
              "      <script>\n",
              "        const buttonEl =\n",
              "          document.querySelector('#df-57da8d55-b7f1-435c-b9cb-1909b6f59d1c button.colab-df-convert');\n",
              "        buttonEl.style.display =\n",
              "          google.colab.kernel.accessAllowed ? 'block' : 'none';\n",
              "\n",
              "        async function convertToInteractive(key) {\n",
              "          const element = document.querySelector('#df-57da8d55-b7f1-435c-b9cb-1909b6f59d1c');\n",
              "          const dataTable =\n",
              "            await google.colab.kernel.invokeFunction('convertToInteractive',\n",
              "                                                     [key], {});\n",
              "          if (!dataTable) return;\n",
              "\n",
              "          const docLinkHtml = 'Like what you see? Visit the ' +\n",
              "            '<a target=\"_blank\" href=https://colab.research.google.com/notebooks/data_table.ipynb>data table notebook</a>'\n",
              "            + ' to learn more about interactive tables.';\n",
              "          element.innerHTML = '';\n",
              "          dataTable['output_type'] = 'display_data';\n",
              "          await google.colab.output.renderOutput(dataTable, element);\n",
              "          const docLink = document.createElement('div');\n",
              "          docLink.innerHTML = docLinkHtml;\n",
              "          element.appendChild(docLink);\n",
              "        }\n",
              "      </script>\n",
              "    </div>\n",
              "  </div>\n",
              "  "
            ],
            "text/plain": [
              "        loss  accuracy  val_loss  val_accuracy  Epochs\n",
              "15  0.387012  0.855263  0.736420      0.687225      15\n",
              "16  0.505079  0.776316  0.720817      0.704846      16\n",
              "17  0.543084  0.736842  0.913233      0.660793      17\n",
              "18  0.397351  0.802632  1.307550      0.559471      18\n",
              "19  0.590358  0.697368  0.841568      0.660793      19"
            ]
          },
          "metadata": {},
          "execution_count": 77
        }
      ]
    },
    {
      "cell_type": "code",
      "source": [
        "plt.plot(r1['Epochs'],r1['loss'],label='Training loss')\n",
        "plt.plot(r1['Epochs'],r1['val_loss'],label='Testing loss')\n",
        "plt.xlabel('Epochs')\n",
        "plt.ylabel('Loss')\n",
        "plt.legend()\n",
        "plt.show"
      ],
      "metadata": {
        "colab": {
          "base_uri": "https://localhost:8080/",
          "height": 296
        },
        "id": "2rtYd1gKUxfi",
        "outputId": "13d8a913-a48a-40e4-d367-1ac5f5f1996a"
      },
      "execution_count": 78,
      "outputs": [
        {
          "output_type": "execute_result",
          "data": {
            "text/plain": [
              "<function matplotlib.pyplot.show>"
            ]
          },
          "metadata": {},
          "execution_count": 78
        },
        {
          "output_type": "display_data",
          "data": {
            "image/png": "[encoded data removed]",
            "text/plain": [
              "<Figure size 432x288 with 1 Axes>"
            ]
          },
          "metadata": {
            "needs_background": "light"
          }
        }
      ]
    },
    {
      "cell_type": "code",
      "source": [
        "plt.plot(r1['Epochs'],r1['accuracy'],label='Training accuarcy')\n",
        "plt.plot(r1['Epochs'],r1['val_accuracy'],label='Testing accuracy')\n",
        "plt.xlabel('Epochs')\n",
        "plt.ylabel('Accuracy')\n",
        "plt.legend()\n",
        "plt.show"
      ],
      "metadata": {
        "colab": {
          "base_uri": "https://localhost:8080/",
          "height": 296
        },
        "id": "1dVp3pKNVv1P",
        "outputId": "b4b5adb3-449a-4ace-d067-3eb6736410ce"
      },
      "execution_count": 79,
      "outputs": [
        {
          "output_type": "execute_result",
          "data": {
            "text/plain": [
              "<function matplotlib.pyplot.show>"
            ]
          },
          "metadata": {},
          "execution_count": 79
        },
        {
          "output_type": "display_data",
          "data": {
            "image/png": "[encoded data removed]",
            "text/plain": [
              "<Figure size 432x288 with 1 Axes>"
            ]
          },
          "metadata": {
            "needs_background": "light"
          }
        }
      ]
    },
    {
      "cell_type": "code",
      "source": [
        "ypred_m1 = m1.predict(x_test)\n",
        "print(len(ypred_m1))"
      ],
      "metadata": {
        "colab": {
          "base_uri": "https://localhost:8080/"
        },
        "id": "sReKLTTPWL4p",
        "outputId": "71c4e601-c368-4b6e-ce34-1cbc0fa710c6"
      },
      "execution_count": 80,
      "outputs": [
        {
          "output_type": "stream",
          "name": "stdout",
          "text": [
            "227\n"
          ]
        }
      ]
    },
    {
      "cell_type": "code",
      "source": [
        "print(ypred_m1)"
      ],
      "metadata": {
        "colab": {
          "base_uri": "https://localhost:8080/"
        },
        "id": "OEg_ALLaWyf0",
        "outputId": "1a332d74-f727-408a-b853-4d226cb7503e"
      },
      "execution_count": 81,
      "outputs": [
        {
          "output_type": "stream",
          "name": "stdout",
          "text": [
            "[[0.44394693]\n",
            " [0.0371224 ]\n",
            " [0.9445983 ]\n",
            " [0.12474501]\n",
            " [0.98951465]\n",
            " [0.00512746]\n",
            " [0.05269498]\n",
            " [0.91073734]\n",
            " [0.8173254 ]\n",
            " [0.95880663]\n",
            " [0.06850076]\n",
            " [0.9969255 ]\n",
            " [0.9309437 ]\n",
            " [0.8834464 ]\n",
            " [0.49490324]\n",
            " [0.12921321]\n",
            " [0.40239638]\n",
            " [0.46857023]\n",
            " [0.7301941 ]\n",
            " [0.39587831]\n",
            " [0.37138343]\n",
            " [0.9752524 ]\n",
            " [0.01371223]\n",
            " [0.07455996]\n",
            " [0.9464282 ]\n",
            " [0.6575282 ]\n",
            " [0.86259973]\n",
            " [0.9977783 ]\n",
            " [0.98779154]\n",
            " [0.9708292 ]\n",
            " [0.9976913 ]\n",
            " [0.00756609]\n",
            " [0.95414484]\n",
            " [0.9966806 ]\n",
            " [0.9800439 ]\n",
            " [0.32981622]\n",
            " [0.9990089 ]\n",
            " [0.12833953]\n",
            " [0.80778074]\n",
            " [0.01160437]\n",
            " [0.2217575 ]\n",
            " [0.73538285]\n",
            " [0.96560967]\n",
            " [0.985592  ]\n",
            " [0.8057074 ]\n",
            " [0.68995184]\n",
            " [0.93353266]\n",
            " [0.9822166 ]\n",
            " [0.9548309 ]\n",
            " [0.958529  ]\n",
            " [0.9750128 ]\n",
            " [0.8685676 ]\n",
            " [0.80379725]\n",
            " [0.6052383 ]\n",
            " [0.85795397]\n",
            " [0.9850699 ]\n",
            " [0.983559  ]\n",
            " [0.9352841 ]\n",
            " [0.98986566]\n",
            " [0.22888544]\n",
            " [0.74025226]\n",
            " [0.7899125 ]\n",
            " [0.27112752]\n",
            " [0.8056244 ]\n",
            " [0.94047576]\n",
            " [0.05637559]\n",
            " [0.9627646 ]\n",
            " [0.5457255 ]\n",
            " [0.9976299 ]\n",
            " [0.8654568 ]\n",
            " [0.17060146]\n",
            " [0.93780386]\n",
            " [0.996596  ]\n",
            " [0.03577033]\n",
            " [0.986786  ]\n",
            " [0.65006244]\n",
            " [0.9273118 ]\n",
            " [0.00779039]\n",
            " [0.6297297 ]\n",
            " [0.9963988 ]\n",
            " [0.9998418 ]\n",
            " [0.99615717]\n",
            " [0.65755594]\n",
            " [0.9955392 ]\n",
            " [0.10254306]\n",
            " [0.9755403 ]\n",
            " [0.9399612 ]\n",
            " [0.3596263 ]\n",
            " [0.5009483 ]\n",
            " [0.99941206]\n",
            " [0.9436144 ]\n",
            " [0.24239603]\n",
            " [0.13006258]\n",
            " [0.62405884]\n",
            " [0.85023844]\n",
            " [0.1024912 ]\n",
            " [0.98117113]\n",
            " [0.23949167]\n",
            " [0.93983316]\n",
            " [0.99643195]\n",
            " [0.86689925]\n",
            " [0.6826271 ]\n",
            " [0.9778179 ]\n",
            " [0.50959545]\n",
            " [0.29981685]\n",
            " [0.8388654 ]\n",
            " [0.4147582 ]\n",
            " [0.83172035]\n",
            " [0.97820425]\n",
            " [0.985592  ]\n",
            " [0.9963251 ]\n",
            " [0.95413053]\n",
            " [0.4813009 ]\n",
            " [0.9619942 ]\n",
            " [0.9782739 ]\n",
            " [0.6273538 ]\n",
            " [0.9540571 ]\n",
            " [0.94395304]\n",
            " [0.09684283]\n",
            " [0.04283622]\n",
            " [0.02385953]\n",
            " [0.00123385]\n",
            " [0.99924576]\n",
            " [0.88306224]\n",
            " [0.7383462 ]\n",
            " [0.9248676 ]\n",
            " [0.06404349]\n",
            " [0.44287094]\n",
            " [0.5377034 ]\n",
            " [0.9963869 ]\n",
            " [0.641745  ]\n",
            " [0.9993426 ]\n",
            " [0.9038773 ]\n",
            " [0.97864187]\n",
            " [0.08115557]\n",
            " [0.13391703]\n",
            " [0.64500296]\n",
            " [0.9694059 ]\n",
            " [0.91243565]\n",
            " [0.98715186]\n",
            " [0.9943298 ]\n",
            " [0.9989853 ]\n",
            " [0.9763502 ]\n",
            " [0.99885917]\n",
            " [0.09046882]\n",
            " [0.00720865]\n",
            " [0.9410316 ]\n",
            " [0.799175  ]\n",
            " [0.8790263 ]\n",
            " [0.9895468 ]\n",
            " [0.93137133]\n",
            " [0.849154  ]\n",
            " [0.73964024]\n",
            " [0.97684586]\n",
            " [0.12163579]\n",
            " [0.9067179 ]\n",
            " [0.91330373]\n",
            " [0.9785837 ]\n",
            " [0.8607353 ]\n",
            " [0.4851486 ]\n",
            " [0.03981096]\n",
            " [0.99928784]\n",
            " [0.9818164 ]\n",
            " [0.46820945]\n",
            " [0.983611  ]\n",
            " [0.7414524 ]\n",
            " [0.01277828]\n",
            " [0.1109463 ]\n",
            " [0.03816992]\n",
            " [0.93378997]\n",
            " [0.9497672 ]\n",
            " [0.72925913]\n",
            " [0.9312438 ]\n",
            " [0.18839964]\n",
            " [0.0034152 ]\n",
            " [0.98838854]\n",
            " [0.9965835 ]\n",
            " [0.8815094 ]\n",
            " [0.8982194 ]\n",
            " [0.10988495]\n",
            " [0.8985168 ]\n",
            " [0.97797096]\n",
            " [0.501041  ]\n",
            " [0.9957509 ]\n",
            " [0.11595398]\n",
            " [0.06650943]\n",
            " [0.4753523 ]\n",
            " [0.90006113]\n",
            " [0.9525908 ]\n",
            " [0.9941821 ]\n",
            " [0.9715773 ]\n",
            " [0.65527755]\n",
            " [0.7786027 ]\n",
            " [0.58083296]\n",
            " [0.9772085 ]\n",
            " [0.99485934]\n",
            " [0.9427779 ]\n",
            " [0.983906  ]\n",
            " [0.97850144]\n",
            " [0.97536916]\n",
            " [0.68283176]\n",
            " [0.9569632 ]\n",
            " [0.6647618 ]\n",
            " [0.03324887]\n",
            " [0.9841298 ]\n",
            " [0.86541766]\n",
            " [0.0050782 ]\n",
            " [0.0210503 ]\n",
            " [0.97884333]\n",
            " [0.99880326]\n",
            " [0.98883176]\n",
            " [0.0589025 ]\n",
            " [0.9238326 ]\n",
            " [0.9996084 ]\n",
            " [0.9573385 ]\n",
            " [0.94301885]\n",
            " [0.9243803 ]\n",
            " [0.5651865 ]\n",
            " [0.7230429 ]\n",
            " [0.8266585 ]\n",
            " [0.34489548]\n",
            " [0.18147948]\n",
            " [0.913939  ]\n",
            " [0.04469663]\n",
            " [0.99589336]\n",
            " [0.76873016]\n",
            " [0.9232129 ]]\n"
          ]
        }
      ]
    },
    {
      "cell_type": "code",
      "source": [
        "ypred_m1= list(map(lambda x: 1 if x> 0.5 else 0,ypred_m1))\n",
        "print(ypred_m1)"
      ],
      "metadata": {
        "colab": {
          "base_uri": "https://localhost:8080/"
        },
        "id": "0nGY_DFYXGib",
        "outputId": "cadf5690-27c3-4e8a-8c63-52f34bbc7283"
      },
      "execution_count": 82,
      "outputs": [
        {
          "output_type": "stream",
          "name": "stdout",
          "text": [
            "[0, 0, 1, 0, 1, 0, 0, 1, 1, 1, 0, 1, 1, 1, 0, 0, 0, 0, 1, 0, 0, 1, 0, 0, 1, 1, 1, 1, 1, 1, 1, 0, 1, 1, 1, 0, 1, 0, 1, 0, 0, 1, 1, 1, 1, 1, 1, 1, 1, 1, 1, 1, 1, 1, 1, 1, 1, 1, 1, 0, 1, 1, 0, 1, 1, 0, 1, 1, 1, 1, 0, 1, 1, 0, 1, 1, 1, 0, 1, 1, 1, 1, 1, 1, 0, 1, 1, 0, 1, 1, 1, 0, 0, 1, 1, 0, 1, 0, 1, 1, 1, 1, 1, 1, 0, 1, 0, 1, 1, 1, 1, 1, 0, 1, 1, 1, 1, 1, 0, 0, 0, 0, 1, 1, 1, 1, 0, 0, 1, 1, 1, 1, 1, 1, 0, 0, 1, 1, 1, 1, 1, 1, 1, 1, 0, 0, 1, 1, 1, 1, 1, 1, 1, 1, 0, 1, 1, 1, 1, 0, 0, 1, 1, 0, 1, 1, 0, 0, 0, 1, 1, 1, 1, 0, 0, 1, 1, 1, 1, 0, 1, 1, 1, 1, 0, 0, 0, 1, 1, 1, 1, 1, 1, 1, 1, 1, 1, 1, 1, 1, 1, 1, 1, 0, 1, 1, 0, 0, 1, 1, 1, 0, 1, 1, 1, 1, 1, 1, 1, 1, 0, 0, 1, 0, 1, 1, 1]\n"
          ]
        }
      ]
    },
    {
      "cell_type": "code",
      "source": [
        "from sklearn.metrics import confusion_matrix,classification_report"
      ],
      "metadata": {
        "id": "8xTK8VrWWj1i"
      },
      "execution_count": 84,
      "outputs": []
    },
    {
      "cell_type": "code",
      "source": [
        "print(y_test[:5])"
      ],
      "metadata": {
        "colab": {
          "base_uri": "https://localhost:8080/"
        },
        "id": "VuGjoZzvWtl5",
        "outputId": "0d9faa47-b847-44f2-d430-6ac442f86118"
      },
      "execution_count": 85,
      "outputs": [
        {
          "output_type": "stream",
          "name": "stdout",
          "text": [
            "34     1\n",
            "231    0\n",
            "212    0\n",
            "139    1\n",
            "171    0\n",
            "Name: target, dtype: int64\n"
          ]
        }
      ]
    },
    {
      "cell_type": "code",
      "source": [
        "print(confusion_matrix(y_test,ypred_m1))"
      ],
      "metadata": {
        "colab": {
          "base_uri": "https://localhost:8080/"
        },
        "id": "oJMa0pKTaOhq",
        "outputId": "59aff01a-9290-42ac-cf1d-1f766752a8b2"
      },
      "execution_count": 86,
      "outputs": [
        {
          "output_type": "stream",
          "name": "stdout",
          "text": [
            "[[ 45  58]\n",
            " [ 19 105]]\n"
          ]
        }
      ]
    },
    {
      "cell_type": "code",
      "source": [
        "print(classification_report(y_test,ypred_m1))"
      ],
      "metadata": {
        "colab": {
          "base_uri": "https://localhost:8080/"
        },
        "id": "WewN0aq1akZR",
        "outputId": "8b492f5b-a960-4102-f23e-d74ab83d4f3c"
      },
      "execution_count": 87,
      "outputs": [
        {
          "output_type": "stream",
          "name": "stdout",
          "text": [
            "              precision    recall  f1-score   support\n",
            "\n",
            "           0       0.70      0.44      0.54       103\n",
            "           1       0.64      0.85      0.73       124\n",
            "\n",
            "    accuracy                           0.66       227\n",
            "   macro avg       0.67      0.64      0.64       227\n",
            "weighted avg       0.67      0.66      0.64       227\n",
            "\n"
          ]
        }
      ]
    }
  ]
}